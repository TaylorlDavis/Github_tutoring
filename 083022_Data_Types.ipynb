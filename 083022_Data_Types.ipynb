{
 "cells": [
  {
   "cell_type": "markdown",
   "id": "fdc1a774",
   "metadata": {},
   "source": [
    "083122_Data_Types"
   ]
  },
  {
   "cell_type": "code",
   "execution_count": 1,
   "id": "69b9c0eb",
   "metadata": {},
   "outputs": [],
   "source": [
    "name = 'Taylor'\n",
    "greetings = 'Welcome to Data Science Class'"
   ]
  },
  {
   "cell_type": "code",
   "execution_count": 5,
   "id": "75f9da6b",
   "metadata": {},
   "outputs": [
    {
     "name": "stdout",
     "output_type": "stream",
     "text": [
      "Hello Taylor Welcome to Data Science Class\n"
     ]
    }
   ],
   "source": [
    "print('Hello {} {}'.format(name, greetings))"
   ]
  },
  {
   "cell_type": "code",
   "execution_count": 8,
   "id": "6e7cb8ac",
   "metadata": {},
   "outputs": [
    {
     "name": "stdout",
     "output_type": "stream",
     "text": [
      "Hello Taylor Welcome to Data Science Class\n"
     ]
    }
   ],
   "source": [
    "print('Hello '+ name +' '+ greetings)"
   ]
  },
  {
   "cell_type": "markdown",
   "id": "58431844",
   "metadata": {},
   "source": [
    "* ### String Method"
   ]
  },
  {
   "cell_type": "code",
   "execution_count": 10,
   "id": "a5bfa3d7",
   "metadata": {},
   "outputs": [],
   "source": [
    "# Upper() method\n",
    "name = 'naomi'"
   ]
  },
  {
   "cell_type": "code",
   "execution_count": 11,
   "id": "3794f4a2",
   "metadata": {},
   "outputs": [
    {
     "name": "stdout",
     "output_type": "stream",
     "text": [
      "NAOMI\n"
     ]
    }
   ],
   "source": [
    "print(name.upper())"
   ]
  },
  {
   "cell_type": "code",
   "execution_count": 12,
   "id": "15964b32",
   "metadata": {},
   "outputs": [
    {
     "name": "stdout",
     "output_type": "stream",
     "text": [
      "Naomi\n"
     ]
    }
   ],
   "source": [
    "# Title method\n",
    "print(name.title())"
   ]
  },
  {
   "cell_type": "code",
   "execution_count": 15,
   "id": "aa6b52c6",
   "metadata": {},
   "outputs": [],
   "source": [
    "# Lower() Method\n",
    "second_name = 'JOHN'"
   ]
  },
  {
   "cell_type": "code",
   "execution_count": 16,
   "id": "553d514b",
   "metadata": {},
   "outputs": [
    {
     "name": "stdout",
     "output_type": "stream",
     "text": [
      "john\n"
     ]
    }
   ],
   "source": [
    "print(second_name.lower())"
   ]
  },
  {
   "cell_type": "code",
   "execution_count": 17,
   "id": "2e618da8",
   "metadata": {},
   "outputs": [],
   "source": [
    "# Center() Method\n",
    "center_name = 'Saujane'"
   ]
  },
  {
   "cell_type": "code",
   "execution_count": 22,
   "id": "7dc6a1a0",
   "metadata": {},
   "outputs": [
    {
     "name": "stdout",
     "output_type": "stream",
     "text": [
      "                                                      Saujane                                                      \n"
     ]
    }
   ],
   "source": [
    "print(center_name.center(115))"
   ]
  },
  {
   "cell_type": "code",
   "execution_count": 25,
   "id": "ed6caf6d",
   "metadata": {},
   "outputs": [
    {
     "name": "stdout",
     "output_type": "stream",
     "text": [
      "2\n"
     ]
    }
   ],
   "source": [
    "# Count() method\n",
    "print(center_name.count('a'))"
   ]
  },
  {
   "cell_type": "code",
   "execution_count": 26,
   "id": "3f70ff91",
   "metadata": {},
   "outputs": [
    {
     "name": "stdout",
     "output_type": "stream",
     "text": [
      "True\n"
     ]
    }
   ],
   "source": [
    "# Endswith() method\n",
    "print(center_name.endswith('e'))"
   ]
  },
  {
   "cell_type": "code",
   "execution_count": 27,
   "id": "9410d4f5",
   "metadata": {},
   "outputs": [],
   "source": [
    "# Isnumeric() method\n",
    "num = '123'"
   ]
  },
  {
   "cell_type": "code",
   "execution_count": 28,
   "id": "77124a19",
   "metadata": {},
   "outputs": [
    {
     "data": {
      "text/plain": [
       "str"
      ]
     },
     "execution_count": 28,
     "metadata": {},
     "output_type": "execute_result"
    }
   ],
   "source": [
    "type(num)"
   ]
  },
  {
   "cell_type": "code",
   "execution_count": 29,
   "id": "4e9630ab",
   "metadata": {},
   "outputs": [
    {
     "name": "stdout",
     "output_type": "stream",
     "text": [
      "True\n"
     ]
    }
   ],
   "source": [
    "print(num.isnumeric())"
   ]
  },
  {
   "cell_type": "code",
   "execution_count": 30,
   "id": "b53a7534",
   "metadata": {},
   "outputs": [],
   "source": [
    "num_1 = num.isnumeric()"
   ]
  },
  {
   "cell_type": "code",
   "execution_count": 31,
   "id": "8315c6ce",
   "metadata": {},
   "outputs": [
    {
     "data": {
      "text/plain": [
       "bool"
      ]
     },
     "execution_count": 31,
     "metadata": {},
     "output_type": "execute_result"
    }
   ],
   "source": [
    "type(num_1)"
   ]
  },
  {
   "cell_type": "code",
   "execution_count": 32,
   "id": "05dd5ae9",
   "metadata": {},
   "outputs": [],
   "source": [
    "# strip method\n",
    "last_name = 'Smith '"
   ]
  },
  {
   "cell_type": "code",
   "execution_count": 33,
   "id": "7534742b",
   "metadata": {},
   "outputs": [
    {
     "data": {
      "text/plain": [
       "6"
      ]
     },
     "execution_count": 33,
     "metadata": {},
     "output_type": "execute_result"
    }
   ],
   "source": [
    "len(last_name)"
   ]
  },
  {
   "cell_type": "code",
   "execution_count": 34,
   "id": "77ca88c7",
   "metadata": {},
   "outputs": [],
   "source": [
    "r_name = last_name.rstrip()"
   ]
  },
  {
   "cell_type": "code",
   "execution_count": 37,
   "id": "7ba7b9a9",
   "metadata": {},
   "outputs": [
    {
     "data": {
      "text/plain": [
       "5"
      ]
     },
     "execution_count": 37,
     "metadata": {},
     "output_type": "execute_result"
    }
   ],
   "source": [
    "len(r_name)"
   ]
  },
  {
   "cell_type": "code",
   "execution_count": 40,
   "id": "014858a6",
   "metadata": {},
   "outputs": [],
   "source": [
    "l_name = last_name.lstrip()"
   ]
  },
  {
   "cell_type": "code",
   "execution_count": 41,
   "id": "38daafb0",
   "metadata": {},
   "outputs": [
    {
     "data": {
      "text/plain": [
       "6"
      ]
     },
     "execution_count": 41,
     "metadata": {},
     "output_type": "execute_result"
    }
   ],
   "source": [
    "len(l_name)"
   ]
  },
  {
   "cell_type": "markdown",
   "id": "b7de02d1",
   "metadata": {},
   "source": [
    "* ## Lists\n",
    "Lists are used to store multiple items in a single variable. List members are created inside square brackets"
   ]
  },
  {
   "cell_type": "code",
   "execution_count": 1,
   "id": "befd4fce",
   "metadata": {},
   "outputs": [
    {
     "data": {
      "text/plain": [
       "['apple', 'orange', ['mango', 'banana']]"
      ]
     },
     "execution_count": 1,
     "metadata": {},
     "output_type": "execute_result"
    }
   ],
   "source": [
    "a_list = ['apple', 'orange', ['mango', 'banana']]\n",
    "a_list"
   ]
  },
  {
   "cell_type": "code",
   "execution_count": 2,
   "id": "40560d0d",
   "metadata": {},
   "outputs": [
    {
     "data": {
      "text/plain": [
       "list"
      ]
     },
     "execution_count": 2,
     "metadata": {},
     "output_type": "execute_result"
    }
   ],
   "source": [
    "type(a_list)"
   ]
  },
  {
   "cell_type": "code",
   "execution_count": 3,
   "id": "35436c5b",
   "metadata": {},
   "outputs": [],
   "source": [
    "# Append method\n",
    "a_list.append('Peach')"
   ]
  },
  {
   "cell_type": "code",
   "execution_count": 4,
   "id": "95e16b7f",
   "metadata": {},
   "outputs": [
    {
     "data": {
      "text/plain": [
       "['apple', 'orange', ['mango', 'banana'], 'Peach']"
      ]
     },
     "execution_count": 4,
     "metadata": {},
     "output_type": "execute_result"
    }
   ],
   "source": [
    "a_list"
   ]
  },
  {
   "cell_type": "code",
   "execution_count": 5,
   "id": "383dfe5f",
   "metadata": {},
   "outputs": [
    {
     "data": {
      "text/plain": [
       "'orange'"
      ]
     },
     "execution_count": 5,
     "metadata": {},
     "output_type": "execute_result"
    }
   ],
   "source": [
    "# Pop Method\n",
    "a_list.pop(1)"
   ]
  },
  {
   "cell_type": "code",
   "execution_count": 6,
   "id": "d17eafac",
   "metadata": {},
   "outputs": [
    {
     "data": {
      "text/plain": [
       "'apple'"
      ]
     },
     "execution_count": 6,
     "metadata": {},
     "output_type": "execute_result"
    }
   ],
   "source": [
    "a_list[0]"
   ]
  },
  {
   "cell_type": "code",
   "execution_count": 7,
   "id": "f2f03256",
   "metadata": {},
   "outputs": [
    {
     "data": {
      "text/plain": [
       "'Peach'"
      ]
     },
     "execution_count": 7,
     "metadata": {},
     "output_type": "execute_result"
    }
   ],
   "source": [
    "a_list[-1]"
   ]
  },
  {
   "cell_type": "code",
   "execution_count": 12,
   "id": "d10f4cde",
   "metadata": {},
   "outputs": [
    {
     "ename": "TypeError",
     "evalue": "list indices must be integers or slices, not float",
     "output_type": "error",
     "traceback": [
      "\u001b[1;31m---------------------------------------------------------------------------\u001b[0m",
      "\u001b[1;31mTypeError\u001b[0m                                 Traceback (most recent call last)",
      "Input \u001b[1;32mIn [12]\u001b[0m, in \u001b[0;36m<cell line: 1>\u001b[1;34m()\u001b[0m\n\u001b[1;32m----> 1\u001b[0m \u001b[43ma_list\u001b[49m\u001b[43m[\u001b[49m\u001b[38;5;241;43m1.1\u001b[39;49m\u001b[43m]\u001b[49m\n",
      "\u001b[1;31mTypeError\u001b[0m: list indices must be integers or slices, not float"
     ]
    }
   ],
   "source": [
    "a_list[1]"
   ]
  },
  {
   "cell_type": "code",
   "execution_count": 9,
   "id": "ae710930",
   "metadata": {},
   "outputs": [
    {
     "data": {
      "text/plain": [
       "['apple', ['mango', 'banana'], 'Peach']"
      ]
     },
     "execution_count": 9,
     "metadata": {},
     "output_type": "execute_result"
    }
   ],
   "source": [
    "a_list"
   ]
  },
  {
   "cell_type": "code",
   "execution_count": 12,
   "id": "51e767da",
   "metadata": {},
   "outputs": [],
   "source": [
    "b_list = ['Portland', 'Washington D.C.', 'Seattle', 'Houston', 'Philidelphia', 'Los Angeles', 'New York City', 'Baltimore', 'Memphis', 'Chicago']"
   ]
  },
  {
   "cell_type": "code",
   "execution_count": 13,
   "id": "bfdc7204",
   "metadata": {},
   "outputs": [
    {
     "data": {
      "text/plain": [
       "['Portland',\n",
       " 'Washington D.C.',\n",
       " 'Seattle',\n",
       " 'Houston',\n",
       " 'Philidelphia',\n",
       " 'Los Angeles',\n",
       " 'New York City',\n",
       " 'Baltimore',\n",
       " 'Memphis',\n",
       " 'Chicago']"
      ]
     },
     "execution_count": 13,
     "metadata": {},
     "output_type": "execute_result"
    }
   ],
   "source": [
    "b_list"
   ]
  },
  {
   "cell_type": "code",
   "execution_count": 14,
   "id": "d07384e3",
   "metadata": {},
   "outputs": [],
   "source": [
    "b_list.append('Cleveland')"
   ]
  },
  {
   "cell_type": "code",
   "execution_count": 15,
   "id": "d9d19764",
   "metadata": {},
   "outputs": [
    {
     "data": {
      "text/plain": [
       "['Portland',\n",
       " 'Washington D.C.',\n",
       " 'Seattle',\n",
       " 'Houston',\n",
       " 'Philidelphia',\n",
       " 'Los Angeles',\n",
       " 'New York City',\n",
       " 'Baltimore',\n",
       " 'Memphis',\n",
       " 'Chicago',\n",
       " 'Cleveland']"
      ]
     },
     "execution_count": 15,
     "metadata": {},
     "output_type": "execute_result"
    }
   ],
   "source": [
    "b_list"
   ]
  },
  {
   "cell_type": "code",
   "execution_count": 17,
   "id": "7c38fe29",
   "metadata": {},
   "outputs": [
    {
     "data": {
      "text/plain": [
       "'Philidelphia'"
      ]
     },
     "execution_count": 17,
     "metadata": {},
     "output_type": "execute_result"
    }
   ],
   "source": [
    "b_list.pop(4)"
   ]
  },
  {
   "cell_type": "code",
   "execution_count": 18,
   "id": "ed896ffc",
   "metadata": {},
   "outputs": [
    {
     "data": {
      "text/plain": [
       "'Baltimore'"
      ]
     },
     "execution_count": 18,
     "metadata": {},
     "output_type": "execute_result"
    }
   ],
   "source": [
    "b_list[6]"
   ]
  },
  {
   "cell_type": "code",
   "execution_count": 19,
   "id": "3f5f2979",
   "metadata": {},
   "outputs": [
    {
     "data": {
      "text/plain": [
       "'Cleveland'"
      ]
     },
     "execution_count": 19,
     "metadata": {},
     "output_type": "execute_result"
    }
   ],
   "source": [
    "b_list[-1]"
   ]
  },
  {
   "cell_type": "code",
   "execution_count": 20,
   "id": "2a974483",
   "metadata": {},
   "outputs": [
    {
     "data": {
      "text/plain": [
       "['Portland',\n",
       " 'Washington D.C.',\n",
       " 'Seattle',\n",
       " 'Houston',\n",
       " 'Los Angeles',\n",
       " 'New York City',\n",
       " 'Baltimore',\n",
       " 'Memphis',\n",
       " 'Chicago',\n",
       " 'Cleveland']"
      ]
     },
     "execution_count": 20,
     "metadata": {},
     "output_type": "execute_result"
    }
   ],
   "source": [
    "b_list"
   ]
  },
  {
   "cell_type": "code",
   "execution_count": 21,
   "id": "644fbe61",
   "metadata": {},
   "outputs": [
    {
     "data": {
      "text/plain": [
       "['apple', 'banana', 'Peach']"
      ]
     },
     "execution_count": 21,
     "metadata": {},
     "output_type": "execute_result"
    }
   ],
   "source": [
    "# remove method\n",
    "a_list.remove('mango')\n",
    "a_list"
   ]
  },
  {
   "cell_type": "code",
   "execution_count": 22,
   "id": "a28a1af5",
   "metadata": {},
   "outputs": [
    {
     "data": {
      "text/plain": [
       "['apple', 'banana', 'Peach']"
      ]
     },
     "execution_count": 22,
     "metadata": {},
     "output_type": "execute_result"
    }
   ],
   "source": [
    "c_list = a_list.copy()\n",
    "c_list"
   ]
  },
  {
   "cell_type": "markdown",
   "id": "09016c04",
   "metadata": {},
   "source": [
    "* ## Dictionaries\n",
    "Are used to store key: value. The items in the dictionary are created inside a curly brackes {}"
   ]
  },
  {
   "cell_type": "code",
   "execution_count": 23,
   "id": "2097b918",
   "metadata": {},
   "outputs": [
    {
     "data": {
      "text/plain": [
       "{'Make': 'Toyota', 'Model': 'Land Cruiser', 'Year': 2022}"
      ]
     },
     "execution_count": 23,
     "metadata": {},
     "output_type": "execute_result"
    }
   ],
   "source": [
    "#Exp:\n",
    "cars = {'Make':'Toyota', 'Model':'Land Cruiser', 'Year':2022,}\n",
    "cars"
   ]
  },
  {
   "cell_type": "code",
   "execution_count": 24,
   "id": "881a6b87",
   "metadata": {},
   "outputs": [
    {
     "data": {
      "text/plain": [
       "'Toyota'"
      ]
     },
     "execution_count": 24,
     "metadata": {},
     "output_type": "execute_result"
    }
   ],
   "source": [
    "cars['Make']"
   ]
  },
  {
   "cell_type": "code",
   "execution_count": 25,
   "id": "2dc80d40",
   "metadata": {},
   "outputs": [
    {
     "data": {
      "text/plain": [
       "{'Make': 'Toyota', 'Model': 'Land Cruiser', 'Year': 2023}"
      ]
     },
     "execution_count": 25,
     "metadata": {},
     "output_type": "execute_result"
    }
   ],
   "source": [
    "cars['Year'] = 2023\n",
    "cars"
   ]
  },
  {
   "cell_type": "code",
   "execution_count": 26,
   "id": "92b918b5",
   "metadata": {},
   "outputs": [
    {
     "data": {
      "text/plain": [
       "{'Make': 'Toyota', 'Model': 'Land Cruiser', 'Year': 2023, 'Color': 'Red'}"
      ]
     },
     "execution_count": 26,
     "metadata": {},
     "output_type": "execute_result"
    }
   ],
   "source": [
    "cars['Color'] = 'Red'\n",
    "cars"
   ]
  },
  {
   "cell_type": "code",
   "execution_count": 27,
   "id": "042e6d56",
   "metadata": {},
   "outputs": [
    {
     "data": {
      "text/plain": [
       "dict_keys(['Make', 'Model', 'Year', 'Color'])"
      ]
     },
     "execution_count": 27,
     "metadata": {},
     "output_type": "execute_result"
    }
   ],
   "source": [
    "cars.keys()"
   ]
  },
  {
   "cell_type": "code",
   "execution_count": 28,
   "id": "2a64e72d",
   "metadata": {},
   "outputs": [
    {
     "data": {
      "text/plain": [
       "dict_values(['Toyota', 'Land Cruiser', 2023, 'Red'])"
      ]
     },
     "execution_count": 28,
     "metadata": {},
     "output_type": "execute_result"
    }
   ],
   "source": [
    "cars.values()"
   ]
  },
  {
   "cell_type": "code",
   "execution_count": 29,
   "id": "b35296f2",
   "metadata": {},
   "outputs": [
    {
     "data": {
      "text/plain": [
       "dict_items([('Make', 'Toyota'), ('Model', 'Land Cruiser'), ('Year', 2023), ('Color', 'Red')])"
      ]
     },
     "execution_count": 29,
     "metadata": {},
     "output_type": "execute_result"
    }
   ],
   "source": [
    "cars.items()"
   ]
  },
  {
   "cell_type": "code",
   "execution_count": 36,
   "id": "c7cd4b26",
   "metadata": {},
   "outputs": [
    {
     "data": {
      "text/plain": [
       "{'Make': 'Iphone',\n",
       " 'Model': '13',\n",
       " 'Year': 2020,\n",
       " 'Color': 'Blue',\n",
       " 'Size': 'Mini'}"
      ]
     },
     "execution_count": 36,
     "metadata": {},
     "output_type": "execute_result"
    }
   ],
   "source": [
    "Phone = {'Make': 'Iphone', 'Model': '13', \"Year\": 2020, 'Color': 'Blue', 'Size': 'Mini',}\n",
    "Phone"
   ]
  },
  {
   "cell_type": "code",
   "execution_count": 31,
   "id": "0805e2ee",
   "metadata": {},
   "outputs": [],
   "source": [
    "Phone['Storage'] = '128G'"
   ]
  },
  {
   "cell_type": "code",
   "execution_count": 32,
   "id": "b56f1e41",
   "metadata": {},
   "outputs": [
    {
     "data": {
      "text/plain": [
       "{'Make': 'Iphone',\n",
       " 'Model': '13',\n",
       " 'Year': 2021,\n",
       " 'Color': 'Blue',\n",
       " 'Size': 'Mini',\n",
       " 'Storage': '128G'}"
      ]
     },
     "execution_count": 32,
     "metadata": {},
     "output_type": "execute_result"
    }
   ],
   "source": [
    "Phone"
   ]
  },
  {
   "cell_type": "code",
   "execution_count": 35,
   "id": "8ab2fe0e",
   "metadata": {},
   "outputs": [
    {
     "data": {
      "text/plain": [
       "{'Make': 'Iphone',\n",
       " 'Model': '13',\n",
       " 'Year': 2021,\n",
       " 'Color': 'Blue',\n",
       " 'Size': 'Mini',\n",
       " 'Storage': '128G'}"
      ]
     },
     "execution_count": 35,
     "metadata": {},
     "output_type": "execute_result"
    }
   ],
   "source": [
    "Phone['Year'] = 2021\n",
    "Phone"
   ]
  },
  {
   "cell_type": "markdown",
   "id": "abd07c54",
   "metadata": {},
   "source": [
    "# Booleans"
   ]
  },
  {
   "cell_type": "code",
   "execution_count": 1,
   "id": "1d627bd5",
   "metadata": {},
   "outputs": [
    {
     "name": "stdout",
     "output_type": "stream",
     "text": [
      "False\n"
     ]
    }
   ],
   "source": [
    "print(True == False)"
   ]
  },
  {
   "cell_type": "code",
   "execution_count": 3,
   "id": "e9ca68a7",
   "metadata": {},
   "outputs": [
    {
     "name": "stdout",
     "output_type": "stream",
     "text": [
      "True\n"
     ]
    }
   ],
   "source": [
    "# | = or\n",
    "print((2>3)|(12<56))"
   ]
  },
  {
   "cell_type": "code",
   "execution_count": 4,
   "id": "3de1e2df",
   "metadata": {},
   "outputs": [
    {
     "name": "stdout",
     "output_type": "stream",
     "text": [
      "False\n"
     ]
    }
   ],
   "source": [
    "print((2>3)and(12<56))"
   ]
  },
  {
   "cell_type": "code",
   "execution_count": 5,
   "id": "d3e0e304",
   "metadata": {},
   "outputs": [
    {
     "name": "stdout",
     "output_type": "stream",
     "text": [
      "False\n"
     ]
    }
   ],
   "source": [
    "print((2>3)&(12<56))"
   ]
  },
  {
   "cell_type": "code",
   "execution_count": 6,
   "id": "c3dc533b",
   "metadata": {},
   "outputs": [
    {
     "name": "stdout",
     "output_type": "stream",
     "text": [
      "False\n"
     ]
    }
   ],
   "source": [
    "print(10 == 9)"
   ]
  },
  {
   "cell_type": "code",
   "execution_count": 7,
   "id": "5eacbf64",
   "metadata": {},
   "outputs": [
    {
     "name": "stdout",
     "output_type": "stream",
     "text": [
      "True\n"
     ]
    }
   ],
   "source": [
    "# ! = not\n",
    "print(10 != 9)"
   ]
  },
  {
   "cell_type": "markdown",
   "id": "cd5cc1c7",
   "metadata": {},
   "source": [
    "* # Tuples are unmutable objects"
   ]
  },
  {
   "cell_type": "code",
   "execution_count": 8,
   "id": "324aedc1",
   "metadata": {},
   "outputs": [],
   "source": [
    "t = (1,2,3,4,5)"
   ]
  },
  {
   "cell_type": "code",
   "execution_count": 10,
   "id": "f63a2b87",
   "metadata": {},
   "outputs": [],
   "source": [
    "a,b,c,d,e = t"
   ]
  },
  {
   "cell_type": "code",
   "execution_count": 11,
   "id": "ae280bb0",
   "metadata": {},
   "outputs": [
    {
     "data": {
      "text/plain": [
       "1"
      ]
     },
     "execution_count": 11,
     "metadata": {},
     "output_type": "execute_result"
    }
   ],
   "source": [
    "a"
   ]
  },
  {
   "cell_type": "code",
   "execution_count": 12,
   "id": "f30e2c5e",
   "metadata": {},
   "outputs": [
    {
     "data": {
      "text/plain": [
       "2"
      ]
     },
     "execution_count": 12,
     "metadata": {},
     "output_type": "execute_result"
    }
   ],
   "source": [
    "b"
   ]
  },
  {
   "cell_type": "code",
   "execution_count": 13,
   "id": "c573bcfc",
   "metadata": {},
   "outputs": [
    {
     "data": {
      "text/plain": [
       "3"
      ]
     },
     "execution_count": 13,
     "metadata": {},
     "output_type": "execute_result"
    }
   ],
   "source": [
    "c"
   ]
  },
  {
   "cell_type": "code",
   "execution_count": 14,
   "id": "7bd69cd9",
   "metadata": {},
   "outputs": [
    {
     "data": {
      "text/plain": [
       "4"
      ]
     },
     "execution_count": 14,
     "metadata": {},
     "output_type": "execute_result"
    }
   ],
   "source": [
    "d"
   ]
  },
  {
   "cell_type": "code",
   "execution_count": 15,
   "id": "08385ab0",
   "metadata": {},
   "outputs": [
    {
     "data": {
      "text/plain": [
       "5"
      ]
     },
     "execution_count": 15,
     "metadata": {},
     "output_type": "execute_result"
    }
   ],
   "source": [
    "e"
   ]
  },
  {
   "cell_type": "code",
   "execution_count": 16,
   "id": "46dad6d5",
   "metadata": {},
   "outputs": [
    {
     "data": {
      "text/plain": [
       "1"
      ]
     },
     "execution_count": 16,
     "metadata": {},
     "output_type": "execute_result"
    }
   ],
   "source": [
    "t[0]"
   ]
  },
  {
   "cell_type": "code",
   "execution_count": 17,
   "id": "635e3217",
   "metadata": {},
   "outputs": [
    {
     "data": {
      "text/plain": [
       "5"
      ]
     },
     "execution_count": 17,
     "metadata": {},
     "output_type": "execute_result"
    }
   ],
   "source": [
    "t[-1]"
   ]
  },
  {
   "cell_type": "code",
   "execution_count": 21,
   "id": "79273fbf",
   "metadata": {},
   "outputs": [
    {
     "ename": "TypeError",
     "evalue": "'tuple' object does not support item assignment",
     "output_type": "error",
     "traceback": [
      "\u001b[1;31m---------------------------------------------------------------------------\u001b[0m",
      "\u001b[1;31mTypeError\u001b[0m                                 Traceback (most recent call last)",
      "Input \u001b[1;32mIn [21]\u001b[0m, in \u001b[0;36m<cell line: 1>\u001b[1;34m()\u001b[0m\n\u001b[1;32m----> 1\u001b[0m t[\u001b[38;5;241m3\u001b[39m] \u001b[38;5;241m=\u001b[39m \u001b[38;5;241m100\u001b[39m\n",
      "\u001b[1;31mTypeError\u001b[0m: 'tuple' object does not support item assignment"
     ]
    }
   ],
   "source": [
    "t[3] = 100"
   ]
  },
  {
   "cell_type": "markdown",
   "id": "2b0ef075",
   "metadata": {},
   "source": [
    "* # Sets: No repetitions"
   ]
  },
  {
   "cell_type": "code",
   "execution_count": 19,
   "id": "0f33b419",
   "metadata": {},
   "outputs": [],
   "source": [
    "L = [1,1,1,2,3,3,3,4,5,6,7,7,7,8,9,9,9]"
   ]
  },
  {
   "cell_type": "code",
   "execution_count": 20,
   "id": "12b482a7",
   "metadata": {},
   "outputs": [
    {
     "data": {
      "text/plain": [
       "{1, 2, 3, 4, 5, 6, 7, 8, 9}"
      ]
     },
     "execution_count": 20,
     "metadata": {},
     "output_type": "execute_result"
    }
   ],
   "source": [
    "s1 = set(L)\n",
    "s1"
   ]
  },
  {
   "cell_type": "markdown",
   "id": "9fb1750c",
   "metadata": {},
   "source": [
    "* # Basic Operations"
   ]
  },
  {
   "cell_type": "markdown",
   "id": "8d5bb2a6",
   "metadata": {},
   "source": [
    "* ### If, elif, else statements"
   ]
  },
  {
   "cell_type": "code",
   "execution_count": 22,
   "id": "4684038a",
   "metadata": {},
   "outputs": [],
   "source": [
    "my_list = ['John', 'Jon', 'Josh', 'Abel', 'Mike', 'Sean', 'West', 'Abdul']"
   ]
  },
  {
   "cell_type": "code",
   "execution_count": 26,
   "id": "8f76dfb8",
   "metadata": {},
   "outputs": [],
   "source": [
    "name = 'Mia'"
   ]
  },
  {
   "cell_type": "code",
   "execution_count": 24,
   "id": "63dd1c63",
   "metadata": {
    "scrolled": true
   },
   "outputs": [
    {
     "name": "stdout",
     "output_type": "stream",
     "text": [
      "Not a Student\n"
     ]
    }
   ],
   "source": [
    "if name in my_list:\n",
    "    print('Student')\n",
    "else:\n",
    "    print('Not a Student')"
   ]
  },
  {
   "cell_type": "code",
   "execution_count": 31,
   "id": "93d174e2",
   "metadata": {},
   "outputs": [],
   "source": [
    "new = 'Johns'"
   ]
  },
  {
   "cell_type": "code",
   "execution_count": 32,
   "id": "010bc596",
   "metadata": {},
   "outputs": [
    {
     "name": "stdout",
     "output_type": "stream",
     "text": [
      "Sounds familiar\n"
     ]
    }
   ],
   "source": [
    "if new in my_list:\n",
    "    print('Student')\n",
    "elif new[0].lower() == 'j':\n",
    "    print('Sounds familiar')\n",
    "else:\n",
    "    print('Not a Student')"
   ]
  },
  {
   "cell_type": "code",
   "execution_count": null,
   "id": "022ee8c8",
   "metadata": {},
   "outputs": [],
   "source": []
  }
 ],
 "metadata": {
  "kernelspec": {
   "display_name": "Python 3 (ipykernel)",
   "language": "python",
   "name": "python3"
  },
  "language_info": {
   "codemirror_mode": {
    "name": "ipython",
    "version": 3
   },
   "file_extension": ".py",
   "mimetype": "text/x-python",
   "name": "python",
   "nbconvert_exporter": "python",
   "pygments_lexer": "ipython3",
   "version": "3.9.12"
  }
 },
 "nbformat": 4,
 "nbformat_minor": 5
}
