{
 "cells": [
  {
   "cell_type": "markdown",
   "id": "ee211234",
   "metadata": {},
   "source": [
    "* # Range()"
   ]
  },
  {
   "cell_type": "code",
   "execution_count": 1,
   "id": "0b909cb2",
   "metadata": {},
   "outputs": [
    {
     "data": {
      "text/plain": [
       "range(1, 11)"
      ]
     },
     "execution_count": 1,
     "metadata": {},
     "output_type": "execute_result"
    }
   ],
   "source": [
    "range(1,11) # This will return 1,2,3,4,5,6,7,8,9,10\n",
    "# Numbers between 1 and 11. 1 is included and 11 is excluded"
   ]
  },
  {
   "cell_type": "code",
   "execution_count": 2,
   "id": "25d5e7e8",
   "metadata": {},
   "outputs": [
    {
     "data": {
      "text/plain": [
       "range(1, 11, 2)"
      ]
     },
     "execution_count": 2,
     "metadata": {},
     "output_type": "execute_result"
    }
   ],
   "source": [
    "range(1,11,2) # This will return 1,3,5,7,9"
   ]
  },
  {
   "cell_type": "code",
   "execution_count": 3,
   "id": "3c6d83cf",
   "metadata": {},
   "outputs": [
    {
     "name": "stdout",
     "output_type": "stream",
     "text": [
      "1\n",
      "2\n",
      "3\n",
      "4\n",
      "5\n",
      "6\n",
      "7\n",
      "8\n",
      "9\n",
      "10\n"
     ]
    }
   ],
   "source": [
    "for num in range(1,11):\n",
    "    print(num)"
   ]
  },
  {
   "cell_type": "code",
   "execution_count": 4,
   "id": "ff631856",
   "metadata": {},
   "outputs": [
    {
     "name": "stdout",
     "output_type": "stream",
     "text": [
      "1\n",
      "2\n",
      "3\n",
      "4\n",
      "5\n",
      "6\n",
      "7\n",
      "8\n",
      "9\n",
      "10\n"
     ]
    }
   ],
   "source": [
    "for _ in range(1,11):\n",
    "    print(_)"
   ]
  },
  {
   "cell_type": "code",
   "execution_count": 6,
   "id": "c7d119d0",
   "metadata": {},
   "outputs": [
    {
     "name": "stdout",
     "output_type": "stream",
     "text": [
      "1\n",
      "9\n",
      "25\n",
      "49\n",
      "81\n",
      "121\n"
     ]
    }
   ],
   "source": [
    "for num in range(1,12,2):\n",
    "    print(num**2)"
   ]
  },
  {
   "cell_type": "code",
   "execution_count": 16,
   "id": "d6bb7121",
   "metadata": {},
   "outputs": [
    {
     "name": "stdout",
     "output_type": "stream",
     "text": [
      "Odd number\n",
      "Even number\n",
      "Odd number\n",
      "Even number\n",
      "Odd number\n",
      "Even number\n",
      "Odd number\n",
      "Even number\n",
      "Odd number\n",
      "Even number\n"
     ]
    }
   ],
   "source": [
    "for num in range(1,11):\n",
    "    if num %2== 0:\n",
    "        print('Even number')\n",
    "    else:\n",
    "        print('Odd number')\n",
    "        num = num + 1"
   ]
  },
  {
   "cell_type": "markdown",
   "id": "2d570d4c",
   "metadata": {},
   "source": [
    "* # While loop"
   ]
  },
  {
   "cell_type": "code",
   "execution_count": 13,
   "id": "e2712d46",
   "metadata": {},
   "outputs": [
    {
     "name": "stdout",
     "output_type": "stream",
     "text": [
      "1\n",
      "2\n",
      "3\n",
      "4\n",
      "5\n",
      "6\n",
      "7\n",
      "8\n",
      "9\n",
      "10\n"
     ]
    }
   ],
   "source": [
    "num = 1\n",
    "while num <11:\n",
    "    print(num)\n",
    "    num = num+1"
   ]
  },
  {
   "cell_type": "code",
   "execution_count": 15,
   "id": "2fbeb17d",
   "metadata": {},
   "outputs": [
    {
     "name": "stdout",
     "output_type": "stream",
     "text": [
      "Odd number\n",
      "Even number\n",
      "Odd number\n",
      "Even number\n",
      "Odd number\n",
      "Even number\n",
      "Odd number\n",
      "Even number\n",
      "Odd number\n",
      "Even number\n"
     ]
    }
   ],
   "source": [
    "num = 1\n",
    "while num <11:\n",
    "    if num %2 != 0:\n",
    "        print('Odd number')\n",
    "    else:\n",
    "        print('Even number')\n",
    "    num = num+1"
   ]
  },
  {
   "cell_type": "code",
   "execution_count": 18,
   "id": "7569a0f8",
   "metadata": {},
   "outputs": [
    {
     "name": "stdout",
     "output_type": "stream",
     "text": [
      "odd number\n",
      "Even number\n",
      "odd number\n",
      "Even number\n",
      "odd number\n",
      "Even number\n",
      "odd number\n",
      "Even number\n",
      "odd number\n",
      "Even number\n"
     ]
    },
    {
     "data": {
      "text/plain": [
       "[None, None, None, None, None, None, None, None, None, None]"
      ]
     },
     "execution_count": 18,
     "metadata": {},
     "output_type": "execute_result"
    }
   ],
   "source": [
    "[print('Even number') if num %2 == 0 else print('odd number') for num in range(1,11)]"
   ]
  },
  {
   "cell_type": "code",
   "execution_count": 3,
   "id": "da26a98c",
   "metadata": {},
   "outputs": [
    {
     "name": "stdout",
     "output_type": "stream",
     "text": [
      "[1, 4, 9, 16, 25, 36, 49, 64, 81, 100]\n"
     ]
    }
   ],
   "source": [
    "my_list= []\n",
    "for num in range(1,11,1):\n",
    "    my_list.append(num**2)\n",
    "    num += 1\n",
    "print(my_list)"
   ]
  },
  {
   "cell_type": "code",
   "execution_count": 4,
   "id": "d90adad6",
   "metadata": {},
   "outputs": [
    {
     "data": {
      "text/plain": [
       "[0, 1, 4, 9, 16, 25, 36, 49, 64, 81, 100]"
      ]
     },
     "execution_count": 4,
     "metadata": {},
     "output_type": "execute_result"
    }
   ],
   "source": [
    "[num**2 for num in range(11)]"
   ]
  },
  {
   "cell_type": "code",
   "execution_count": 6,
   "id": "53d26d84",
   "metadata": {},
   "outputs": [
    {
     "data": {
      "text/plain": [
       "[[0, 3, 6, 9], [0, 3, 6, 9], [0, 3, 6, 9], [0, 3, 6, 9], [0, 3, 6, 9]]"
      ]
     },
     "execution_count": 6,
     "metadata": {},
     "output_type": "execute_result"
    }
   ],
   "source": [
    "[[num*3 for num in range(4)] for num in range(5)]"
   ]
  },
  {
   "cell_type": "markdown",
   "id": "f8ee0e6c",
   "metadata": {},
   "source": [
    "* # Dictionary Comprehension"
   ]
  },
  {
   "cell_type": "code",
   "execution_count": 7,
   "id": "8c7f2634",
   "metadata": {},
   "outputs": [],
   "source": [
    "name = ['Taylor', 'Morgan', 'Trena', 'Sanders']"
   ]
  },
  {
   "cell_type": "code",
   "execution_count": 8,
   "id": "e4bd6f0d",
   "metadata": {},
   "outputs": [],
   "source": [
    "dico = {k:v for k,v in enumerate(name)}"
   ]
  },
  {
   "cell_type": "code",
   "execution_count": 9,
   "id": "9529b072",
   "metadata": {},
   "outputs": [
    {
     "data": {
      "text/plain": [
       "{0: 'Taylor', 1: 'Morgan', 2: 'Trena', 3: 'Sanders'}"
      ]
     },
     "execution_count": 9,
     "metadata": {},
     "output_type": "execute_result"
    }
   ],
   "source": [
    "dico"
   ]
  },
  {
   "cell_type": "code",
   "execution_count": 10,
   "id": "b813c402",
   "metadata": {},
   "outputs": [],
   "source": [
    "gpa = [4,3.9,3.8,3.5]"
   ]
  },
  {
   "cell_type": "code",
   "execution_count": 11,
   "id": "3f88e31d",
   "metadata": {},
   "outputs": [
    {
     "data": {
      "text/plain": [
       "{'Taylor': 4, 'Morgan': 3.9, 'Trena': 3.8, 'Sanders': 3.5}"
      ]
     },
     "execution_count": 11,
     "metadata": {},
     "output_type": "execute_result"
    }
   ],
   "source": [
    "name_jpg = {k:v for k,v in zip(name,gpa)}\n",
    "name_jpg"
   ]
  },
  {
   "cell_type": "code",
   "execution_count": 16,
   "id": "aa66edd4",
   "metadata": {},
   "outputs": [],
   "source": [
    "Brand = ['Nike', 'Adidas', 'Reebok', 'Puma', 'New Balance', 'Skechers']\n",
    "Order = {k:v for k,v in enumerate(Brand)}"
   ]
  },
  {
   "cell_type": "code",
   "execution_count": 17,
   "id": "ca7e29f1",
   "metadata": {},
   "outputs": [
    {
     "data": {
      "text/plain": [
       "['Nike', 'Adidas', 'Reebok', 'Puma', 'New Balance', 'Skechers']"
      ]
     },
     "execution_count": 17,
     "metadata": {},
     "output_type": "execute_result"
    }
   ],
   "source": [
    "Brand"
   ]
  },
  {
   "cell_type": "code",
   "execution_count": 18,
   "id": "2fa29350",
   "metadata": {},
   "outputs": [
    {
     "data": {
      "text/plain": [
       "{0: 'Nike',\n",
       " 1: 'Adidas',\n",
       " 2: 'Reebok',\n",
       " 3: 'Puma',\n",
       " 4: 'New Balance',\n",
       " 5: 'Skechers'}"
      ]
     },
     "execution_count": 18,
     "metadata": {},
     "output_type": "execute_result"
    }
   ],
   "source": [
    "Order"
   ]
  },
  {
   "cell_type": "code",
   "execution_count": 22,
   "id": "398de011",
   "metadata": {},
   "outputs": [],
   "source": [
    "Rank = [1,2,3,4,5,6]"
   ]
  },
  {
   "cell_type": "code",
   "execution_count": 23,
   "id": "61b562ad",
   "metadata": {},
   "outputs": [
    {
     "data": {
      "text/plain": [
       "{1: 'Nike',\n",
       " 2: 'Adidas',\n",
       " 3: 'Reebok',\n",
       " 4: 'Puma',\n",
       " 5: 'New Balance',\n",
       " 6: 'Skechers'}"
      ]
     },
     "execution_count": 23,
     "metadata": {},
     "output_type": "execute_result"
    }
   ],
   "source": [
    "Ranking = {k:v for k,v in zip(Rank,Brand)}\n",
    "Ranking"
   ]
  },
  {
   "cell_type": "code",
   "execution_count": 24,
   "id": "f92d76fa",
   "metadata": {},
   "outputs": [],
   "source": [
    "def square_root_func(num):\n",
    "    result = num**0.5\n",
    "    return result"
   ]
  },
  {
   "cell_type": "code",
   "execution_count": 25,
   "id": "084ab752",
   "metadata": {},
   "outputs": [
    {
     "data": {
      "text/plain": [
       "1.4142135623730951"
      ]
     },
     "execution_count": 25,
     "metadata": {},
     "output_type": "execute_result"
    }
   ],
   "source": [
    "square_root_func(2)"
   ]
  },
  {
   "cell_type": "code",
   "execution_count": 32,
   "id": "070d320e",
   "metadata": {},
   "outputs": [],
   "source": [
    "mylist = [1,2,3,4,5]"
   ]
  },
  {
   "cell_type": "code",
   "execution_count": 33,
   "id": "2895c7bf",
   "metadata": {},
   "outputs": [
    {
     "name": "stdout",
     "output_type": "stream",
     "text": [
      "[1, 4, 9, 16, 25, 36, 49, 64, 81, 100]\n"
     ]
    }
   ],
   "source": [
    "my_list= []\n",
    "for num in range(1,11,1):\n",
    "    my_list.append(num**2)\n",
    "    num += 1\n",
    "print(my_list)"
   ]
  },
  {
   "cell_type": "code",
   "execution_count": 34,
   "id": "81af1fb3",
   "metadata": {},
   "outputs": [],
   "source": [
    "def square_func(val):\n",
    "    my_list = []\n",
    "    for val in range(1,11):\n",
    "        my_list.append(val**2)\n",
    "        val = val+1\n",
    "    return my_list"
   ]
  },
  {
   "cell_type": "code",
   "execution_count": 35,
   "id": "89bc8bc7",
   "metadata": {},
   "outputs": [
    {
     "ename": "SyntaxError",
     "evalue": "invalid syntax (1233980945.py, line 2)",
     "output_type": "error",
     "traceback": [
      "\u001b[1;36m  Input \u001b[1;32mIn [35]\u001b[1;36m\u001b[0m\n\u001b[1;33m    if idx, num in enumerate(mylist):\u001b[0m\n\u001b[1;37m          ^\u001b[0m\n\u001b[1;31mSyntaxError\u001b[0m\u001b[1;31m:\u001b[0m invalid syntax\n"
     ]
    }
   ],
   "source": [
    "def replace_by_zero(mylist):\n",
    "    if idx, num in enumerate(mylist):\n",
    "        if num < 0:\n",
    "            mylist[idx] = 0\n",
    "        return mylist\n",
    "mylist"
   ]
  },
  {
   "cell_type": "code",
   "execution_count": 36,
   "id": "d7d39a87",
   "metadata": {},
   "outputs": [
    {
     "ename": "NameError",
     "evalue": "name 'replace_by_zero' is not defined",
     "output_type": "error",
     "traceback": [
      "\u001b[1;31m---------------------------------------------------------------------------\u001b[0m",
      "\u001b[1;31mNameError\u001b[0m                                 Traceback (most recent call last)",
      "Input \u001b[1;32mIn [36]\u001b[0m, in \u001b[0;36m<cell line: 1>\u001b[1;34m()\u001b[0m\n\u001b[1;32m----> 1\u001b[0m \u001b[43mreplace_by_zero\u001b[49m(mylist)\n",
      "\u001b[1;31mNameError\u001b[0m: name 'replace_by_zero' is not defined"
     ]
    }
   ],
   "source": [
    "replace_by_zero(mylist)"
   ]
  },
  {
   "cell_type": "code",
   "execution_count": 37,
   "id": "22ad6d3b",
   "metadata": {},
   "outputs": [],
   "source": [
    "def factorial_func(num):\n",
    "    p = 1\n",
    "    i = 1\n",
    "    while i <= num:\n",
    "        #p = p*i\n",
    "        p *= i\n",
    "        i += 1\n",
    "    return p"
   ]
  },
  {
   "cell_type": "code",
   "execution_count": 38,
   "id": "e844a7b0",
   "metadata": {},
   "outputs": [
    {
     "data": {
      "text/plain": [
       "6"
      ]
     },
     "execution_count": 38,
     "metadata": {},
     "output_type": "execute_result"
    }
   ],
   "source": [
    "factorial_func(3)"
   ]
  },
  {
   "cell_type": "code",
   "execution_count": 39,
   "id": "ea69990e",
   "metadata": {},
   "outputs": [],
   "source": [
    "#!3 = 3x2x1 = 6"
   ]
  },
  {
   "cell_type": "markdown",
   "id": "b7ff2d45",
   "metadata": {},
   "source": [
    "* # Lambda expressions"
   ]
  },
  {
   "cell_type": "code",
   "execution_count": 40,
   "id": "8f3aca45",
   "metadata": {},
   "outputs": [],
   "source": [
    "def squares(num):\n",
    "    result = num**2\n",
    "    return result"
   ]
  },
  {
   "cell_type": "code",
   "execution_count": 41,
   "id": "4e7d2409",
   "metadata": {},
   "outputs": [
    {
     "data": {
      "text/plain": [
       "6561"
      ]
     },
     "execution_count": 41,
     "metadata": {},
     "output_type": "execute_result"
    }
   ],
   "source": [
    "squares(81)"
   ]
  },
  {
   "cell_type": "code",
   "execution_count": 42,
   "id": "0d9d3759",
   "metadata": {},
   "outputs": [],
   "source": [
    "l =lambda num: num**2"
   ]
  },
  {
   "cell_type": "code",
   "execution_count": 43,
   "id": "97422a50",
   "metadata": {},
   "outputs": [
    {
     "data": {
      "text/plain": [
       "36"
      ]
     },
     "execution_count": 43,
     "metadata": {},
     "output_type": "execute_result"
    }
   ],
   "source": [
    "l(6)"
   ]
  },
  {
   "cell_type": "code",
   "execution_count": 44,
   "id": "c4de7081",
   "metadata": {},
   "outputs": [],
   "source": [
    "ano_list = [-1,4,-5,6,7,-11,20,21,33,-77]"
   ]
  },
  {
   "cell_type": "code",
   "execution_count": 47,
   "id": "47b6d3ad",
   "metadata": {},
   "outputs": [
    {
     "data": {
      "text/plain": [
       "[1, 16, 25, 36, 49, 121, 400, 441, 1089, 5929]"
      ]
     },
     "execution_count": 47,
     "metadata": {},
     "output_type": "execute_result"
    }
   ],
   "source": [
    "list(map(l,ano_list))"
   ]
  },
  {
   "cell_type": "code",
   "execution_count": 49,
   "id": "63c33fb0",
   "metadata": {},
   "outputs": [
    {
     "data": {
      "text/plain": [
       "<filter at 0x287854ee1f0>"
      ]
     },
     "execution_count": 49,
     "metadata": {},
     "output_type": "execute_result"
    }
   ],
   "source": [
    "filter(lambda num: num %2 == 0, ano_list)"
   ]
  },
  {
   "cell_type": "code",
   "execution_count": 51,
   "id": "4895b758",
   "metadata": {},
   "outputs": [],
   "source": [
    "md_list = [2,12,-3,5,17,22.0,99,-88]\n",
    "#use map to replace the odd numbers by 0. And use filter\n",
    "#to return the non-negative number"
   ]
  },
  {
   "cell_type": "code",
   "execution_count": 57,
   "id": "942dcab9",
   "metadata": {},
   "outputs": [],
   "source": [
    "def rnge(a_ist):\n",
    "    for i in range(len(a_ist)):\n",
    "        if a_list [i]%2 != 0:\n",
    "            a_list[i]= 0\n",
    "    return a_list"
   ]
  },
  {
   "cell_type": "code",
   "execution_count": 58,
   "id": "2c5364d4",
   "metadata": {},
   "outputs": [
    {
     "data": {
      "text/plain": [
       "<map at 0x28784b807f0>"
      ]
     },
     "execution_count": 58,
     "metadata": {},
     "output_type": "execute_result"
    }
   ],
   "source": [
    "map(rnge, md_list)"
   ]
  },
  {
   "cell_type": "code",
   "execution_count": null,
   "id": "ba0a0404",
   "metadata": {},
   "outputs": [],
   "source": []
  }
 ],
 "metadata": {
  "kernelspec": {
   "display_name": "Python 3 (ipykernel)",
   "language": "python",
   "name": "python3"
  },
  "language_info": {
   "codemirror_mode": {
    "name": "ipython",
    "version": 3
   },
   "file_extension": ".py",
   "mimetype": "text/x-python",
   "name": "python",
   "nbconvert_exporter": "python",
   "pygments_lexer": "ipython3",
   "version": "3.9.12"
  }
 },
 "nbformat": 4,
 "nbformat_minor": 5
}
