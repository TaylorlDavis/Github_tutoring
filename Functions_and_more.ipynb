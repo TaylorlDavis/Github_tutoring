{
 "cells": [
  {
   "cell_type": "markdown",
   "id": "ee211234",
   "metadata": {},
   "source": [
    "* # Range()"
   ]
  },
  {
   "cell_type": "code",
   "execution_count": 1,
   "id": "0b909cb2",
   "metadata": {},
   "outputs": [
    {
     "data": {
      "text/plain": [
       "range(1, 11)"
      ]
     },
     "execution_count": 1,
     "metadata": {},
     "output_type": "execute_result"
    }
   ],
   "source": [
    "range(1,11) # This will return 1,2,3,4,5,6,7,8,9,10\n",
    "# Numbers between 1 and 11. 1 is included and 11 is excluded"
   ]
  },
  {
   "cell_type": "code",
   "execution_count": 2,
   "id": "25d5e7e8",
   "metadata": {},
   "outputs": [
    {
     "data": {
      "text/plain": [
       "range(1, 11, 2)"
      ]
     },
     "execution_count": 2,
     "metadata": {},
     "output_type": "execute_result"
    }
   ],
   "source": [
    "range(1,11,2) # This will return 1,3,5,7,9"
   ]
  },
  {
   "cell_type": "code",
   "execution_count": 3,
   "id": "3c6d83cf",
   "metadata": {},
   "outputs": [
    {
     "name": "stdout",
     "output_type": "stream",
     "text": [
      "1\n",
      "2\n",
      "3\n",
      "4\n",
      "5\n",
      "6\n",
      "7\n",
      "8\n",
      "9\n",
      "10\n"
     ]
    }
   ],
   "source": [
    "for num in range(1,11):\n",
    "    print(num)"
   ]
  },
  {
   "cell_type": "code",
   "execution_count": 4,
   "id": "ff631856",
   "metadata": {},
   "outputs": [
    {
     "name": "stdout",
     "output_type": "stream",
     "text": [
      "1\n",
      "2\n",
      "3\n",
      "4\n",
      "5\n",
      "6\n",
      "7\n",
      "8\n",
      "9\n",
      "10\n"
     ]
    }
   ],
   "source": [
    "for _ in range(1,11):\n",
    "    print(_)"
   ]
  },
  {
   "cell_type": "code",
   "execution_count": 6,
   "id": "c7d119d0",
   "metadata": {},
   "outputs": [
    {
     "name": "stdout",
     "output_type": "stream",
     "text": [
      "1\n",
      "9\n",
      "25\n",
      "49\n",
      "81\n",
      "121\n"
     ]
    }
   ],
   "source": [
    "for num in range(1,12,2):\n",
    "    print(num**2)"
   ]
  },
  {
   "cell_type": "code",
   "execution_count": 16,
   "id": "d6bb7121",
   "metadata": {},
   "outputs": [
    {
     "name": "stdout",
     "output_type": "stream",
     "text": [
      "Odd number\n",
      "Even number\n",
      "Odd number\n",
      "Even number\n",
      "Odd number\n",
      "Even number\n",
      "Odd number\n",
      "Even number\n",
      "Odd number\n",
      "Even number\n"
     ]
    }
   ],
   "source": [
    "for num in range(1,11):\n",
    "    if num %2== 0:\n",
    "        print('Even number')\n",
    "    else:\n",
    "        print('Odd number')\n",
    "        num = num + 1"
   ]
  },
  {
   "cell_type": "markdown",
   "id": "2d570d4c",
   "metadata": {},
   "source": [
    "* # While loop"
   ]
  },
  {
   "cell_type": "code",
   "execution_count": 13,
   "id": "e2712d46",
   "metadata": {},
   "outputs": [
    {
     "name": "stdout",
     "output_type": "stream",
     "text": [
      "1\n",
      "2\n",
      "3\n",
      "4\n",
      "5\n",
      "6\n",
      "7\n",
      "8\n",
      "9\n",
      "10\n"
     ]
    }
   ],
   "source": [
    "num = 1\n",
    "while num <11:\n",
    "    print(num)\n",
    "    num = num+1"
   ]
  },
  {
   "cell_type": "code",
   "execution_count": 15,
   "id": "2fbeb17d",
   "metadata": {},
   "outputs": [
    {
     "name": "stdout",
     "output_type": "stream",
     "text": [
      "Odd number\n",
      "Even number\n",
      "Odd number\n",
      "Even number\n",
      "Odd number\n",
      "Even number\n",
      "Odd number\n",
      "Even number\n",
      "Odd number\n",
      "Even number\n"
     ]
    }
   ],
   "source": [
    "num = 1\n",
    "while num <11:\n",
    "    if num %2 != 0:\n",
    "        print('Odd number')\n",
    "    else:\n",
    "        print('Even number')\n",
    "    num = num+1"
   ]
  },
  {
   "cell_type": "code",
   "execution_count": 18,
   "id": "7569a0f8",
   "metadata": {},
   "outputs": [
    {
     "name": "stdout",
     "output_type": "stream",
     "text": [
      "odd number\n",
      "Even number\n",
      "odd number\n",
      "Even number\n",
      "odd number\n",
      "Even number\n",
      "odd number\n",
      "Even number\n",
      "odd number\n",
      "Even number\n"
     ]
    },
    {
     "data": {
      "text/plain": [
       "[None, None, None, None, None, None, None, None, None, None]"
      ]
     },
     "execution_count": 18,
     "metadata": {},
     "output_type": "execute_result"
    }
   ],
   "source": [
    "[print('Even number') if num %2 == 0 else print('odd number') for num in range(1,11)]"
   ]
  },
  {
   "cell_type": "code",
   "execution_count": 3,
   "id": "da26a98c",
   "metadata": {},
   "outputs": [
    {
     "name": "stdout",
     "output_type": "stream",
     "text": [
      "[1, 4, 9, 16, 25, 36, 49, 64, 81, 100]\n"
     ]
    }
   ],
   "source": [
    "my_list= []\n",
    "for num in range(1,11,1):\n",
    "    my_list.append(num**2)\n",
    "    num += 1\n",
    "print(my_list)"
   ]
  },
  {
   "cell_type": "code",
   "execution_count": 4,
   "id": "d90adad6",
   "metadata": {},
   "outputs": [
    {
     "data": {
      "text/plain": [
       "[0, 1, 4, 9, 16, 25, 36, 49, 64, 81, 100]"
      ]
     },
     "execution_count": 4,
     "metadata": {},
     "output_type": "execute_result"
    }
   ],
   "source": [
    "[num**2 for num in range(11)]"
   ]
  },
  {
   "cell_type": "code",
   "execution_count": 6,
   "id": "53d26d84",
   "metadata": {},
   "outputs": [
    {
     "data": {
      "text/plain": [
       "[[0, 3, 6, 9], [0, 3, 6, 9], [0, 3, 6, 9], [0, 3, 6, 9], [0, 3, 6, 9]]"
      ]
     },
     "execution_count": 6,
     "metadata": {},
     "output_type": "execute_result"
    }
   ],
   "source": [
    "[[num*3 for num in range(4)] for num in range(5)]"
   ]
  },
  {
   "cell_type": "markdown",
   "id": "f8ee0e6c",
   "metadata": {},
   "source": [
    "* # Dictionary Comprehension"
   ]
  },
  {
   "cell_type": "code",
   "execution_count": 7,
   "id": "8c7f2634",
   "metadata": {},
   "outputs": [],
   "source": [
    "name = ['Taylor', 'Morgan', 'Trena', 'Sanders']"
   ]
  },
  {
   "cell_type": "code",
   "execution_count": 8,
   "id": "e4bd6f0d",
   "metadata": {},
   "outputs": [],
   "source": [
    "dico = {k:v for k,v in enumerate(name)}"
   ]
  },
  {
   "cell_type": "code",
   "execution_count": 9,
   "id": "9529b072",
   "metadata": {},
   "outputs": [
    {
     "data": {
      "text/plain": [
       "{0: 'Taylor', 1: 'Morgan', 2: 'Trena', 3: 'Sanders'}"
      ]
     },
     "execution_count": 9,
     "metadata": {},
     "output_type": "execute_result"
    }
   ],
   "source": [
    "dico"
   ]
  },
  {
   "cell_type": "code",
   "execution_count": 10,
   "id": "b813c402",
   "metadata": {},
   "outputs": [],
   "source": [
    "gpa = [4,3.9,3.8,3.5]"
   ]
  },
  {
   "cell_type": "code",
   "execution_count": 11,
   "id": "3f88e31d",
   "metadata": {},
   "outputs": [
    {
     "data": {
      "text/plain": [
       "{'Taylor': 4, 'Morgan': 3.9, 'Trena': 3.8, 'Sanders': 3.5}"
      ]
     },
     "execution_count": 11,
     "metadata": {},
     "output_type": "execute_result"
    }
   ],
   "source": [
    "name_jpg = {k:v for k,v in zip(name,gpa)}\n",
    "name_jpg"
   ]
  },
  {
   "cell_type": "code",
   "execution_count": 16,
   "id": "aa66edd4",
   "metadata": {},
   "outputs": [],
   "source": [
    "Brand = ['Nike', 'Adidas', 'Reebok', 'Puma', 'New Balance', 'Skechers']\n",
    "Order = {k:v for k,v in enumerate(Brand)}"
   ]
  },
  {
   "cell_type": "code",
   "execution_count": 17,
   "id": "ca7e29f1",
   "metadata": {},
   "outputs": [
    {
     "data": {
      "text/plain": [
       "['Nike', 'Adidas', 'Reebok', 'Puma', 'New Balance', 'Skechers']"
      ]
     },
     "execution_count": 17,
     "metadata": {},
     "output_type": "execute_result"
    }
   ],
   "source": [
    "Brand"
   ]
  },
  {
   "cell_type": "code",
   "execution_count": 18,
   "id": "2fa29350",
   "metadata": {},
   "outputs": [
    {
     "data": {
      "text/plain": [
       "{0: 'Nike',\n",
       " 1: 'Adidas',\n",
       " 2: 'Reebok',\n",
       " 3: 'Puma',\n",
       " 4: 'New Balance',\n",
       " 5: 'Skechers'}"
      ]
     },
     "execution_count": 18,
     "metadata": {},
     "output_type": "execute_result"
    }
   ],
   "source": [
    "Order"
   ]
  },
  {
   "cell_type": "code",
   "execution_count": 22,
   "id": "398de011",
   "metadata": {},
   "outputs": [],
   "source": [
    "Rank = [1,2,3,4,5,6]"
   ]
  },
  {
   "cell_type": "code",
   "execution_count": 23,
   "id": "61b562ad",
   "metadata": {},
   "outputs": [
    {
     "data": {
      "text/plain": [
       "{1: 'Nike',\n",
       " 2: 'Adidas',\n",
       " 3: 'Reebok',\n",
       " 4: 'Puma',\n",
       " 5: 'New Balance',\n",
       " 6: 'Skechers'}"
      ]
     },
     "execution_count": 23,
     "metadata": {},
     "output_type": "execute_result"
    }
   ],
   "source": [
    "Ranking = {k:v for k,v in zip(Rank,Brand)}\n",
    "Ranking"
   ]
  },
  {
   "cell_type": "code",
   "execution_count": 24,
   "id": "f92d76fa",
   "metadata": {},
   "outputs": [],
   "source": [
    "def square_root_func(num):\n",
    "    result = num**0.5\n",
    "    return result"
   ]
  },
  {
   "cell_type": "code",
   "execution_count": 25,
   "id": "084ab752",
   "metadata": {},
   "outputs": [
    {
     "data": {
      "text/plain": [
       "1.4142135623730951"
      ]
     },
     "execution_count": 25,
     "metadata": {},
     "output_type": "execute_result"
    }
   ],
   "source": [
    "square_root_func(2)"
   ]
  },
  {
   "cell_type": "code",
   "execution_count": 26,
   "id": "2895c7bf",
   "metadata": {},
   "outputs": [
    {
     "name": "stdout",
     "output_type": "stream",
     "text": [
      "[1, 4, 9, 16, 25, 36, 49, 64, 81, 100]\n"
     ]
    }
   ],
   "source": [
    "my_list= []\n",
    "for num in range(1,11,1):\n",
    "    my_list.append(num**2)\n",
    "    num += 1\n",
    "print(my_list)"
   ]
  },
  {
   "cell_type": "code",
   "execution_count": 27,
   "id": "81af1fb3",
   "metadata": {},
   "outputs": [],
   "source": [
    "def square_func(val):\n",
    "    my_list = []\n",
    "    for val in range(1,11):\n",
    "        my_list.append(val**2)\n",
    "        val = val+1\n",
    "    return my_list"
   ]
  },
  {
   "cell_type": "code",
   "execution_count": 28,
   "id": "a4ec7dbb",
   "metadata": {},
   "outputs": [
    {
     "data": {
      "text/plain": [
       "[1, 4, 9, 16, 25, 36, 49, 64, 81, 100]"
      ]
     },
     "execution_count": 28,
     "metadata": {},
     "output_type": "execute_result"
    }
   ],
   "source": [
    "my_list"
   ]
  },
  {
   "cell_type": "code",
   "execution_count": null,
   "id": "89bc8bc7",
   "metadata": {},
   "outputs": [],
   "source": []
  }
 ],
 "metadata": {
  "kernelspec": {
   "display_name": "Python 3 (ipykernel)",
   "language": "python",
   "name": "python3"
  },
  "language_info": {
   "codemirror_mode": {
    "name": "ipython",
    "version": 3
   },
   "file_extension": ".py",
   "mimetype": "text/x-python",
   "name": "python",
   "nbconvert_exporter": "python",
   "pygments_lexer": "ipython3",
   "version": "3.9.12"
  }
 },
 "nbformat": 4,
 "nbformat_minor": 5
}
