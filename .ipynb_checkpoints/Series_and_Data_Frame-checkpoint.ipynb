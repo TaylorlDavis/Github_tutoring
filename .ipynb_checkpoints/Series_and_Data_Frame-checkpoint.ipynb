{
 "cells": [
  {
   "cell_type": "code",
   "execution_count": 1,
   "id": "f3a8124f",
   "metadata": {},
   "outputs": [],
   "source": [
    "import pandas as pd\n",
    "import numpy as np\n",
    "import random\n"
   ]
  },
  {
   "cell_type": "markdown",
   "id": "da72d02b",
   "metadata": {},
   "source": [
    "* # Series is just single column of data"
   ]
  },
  {
   "cell_type": "code",
   "execution_count": 2,
   "id": "792f2c4a",
   "metadata": {},
   "outputs": [
    {
     "data": {
      "text/plain": [
       "[0, 1, 2, 3, 4, 5, 6, 7, 8, 9]"
      ]
     },
     "execution_count": 2,
     "metadata": {},
     "output_type": "execute_result"
    }
   ],
   "source": [
    "data1 = [i for i in range(10)]\n",
    "data1"
   ]
  },
  {
   "cell_type": "code",
   "execution_count": 3,
   "id": "5c9eefe7",
   "metadata": {},
   "outputs": [],
   "source": [
    "import string"
   ]
  },
  {
   "cell_type": "code",
   "execution_count": 4,
   "id": "8eb9e593",
   "metadata": {},
   "outputs": [
    {
     "name": "stdout",
     "output_type": "stream",
     "text": [
      "['A', 'B', 'C', 'D', 'E', 'F', 'G', 'H', 'I', 'J', 'K', 'L', 'M', 'N', 'O', 'P', 'Q', 'R', 'S', 'T', 'U', 'V', 'W', 'X', 'Y', 'Z']\n"
     ]
    }
   ],
   "source": [
    "alphalist = list(string.ascii_uppercase)\n",
    "print(alphalist)"
   ]
  },
  {
   "cell_type": "code",
   "execution_count": 5,
   "id": "1f1806c8",
   "metadata": {},
   "outputs": [
    {
     "data": {
      "text/plain": [
       "['A', 'B', 'C', 'D', 'E', 'F', 'G', 'H', 'I', 'J']"
      ]
     },
     "execution_count": 5,
     "metadata": {},
     "output_type": "execute_result"
    }
   ],
   "source": [
    "index1 = [alphalist[i] for i in range(10)]\n",
    "index1"
   ]
  },
  {
   "cell_type": "code",
   "execution_count": 6,
   "id": "d623eb5d",
   "metadata": {},
   "outputs": [],
   "source": [
    "series1 = pd.Series(data = data1, index = index1)"
   ]
  },
  {
   "cell_type": "code",
   "execution_count": 7,
   "id": "a032c902",
   "metadata": {},
   "outputs": [
    {
     "data": {
      "text/plain": [
       "A    0\n",
       "B    1\n",
       "C    2\n",
       "D    3\n",
       "E    4\n",
       "F    5\n",
       "G    6\n",
       "H    7\n",
       "I    8\n",
       "J    9\n",
       "dtype: int64"
      ]
     },
     "execution_count": 7,
     "metadata": {},
     "output_type": "execute_result"
    }
   ],
   "source": [
    "series1"
   ]
  },
  {
   "cell_type": "code",
   "execution_count": 8,
   "id": "af09e098",
   "metadata": {},
   "outputs": [],
   "source": [
    "dico = {k:v for k,v in zip(index1,data1)}"
   ]
  },
  {
   "cell_type": "code",
   "execution_count": 9,
   "id": "a970a460",
   "metadata": {},
   "outputs": [
    {
     "data": {
      "text/plain": [
       "A    0\n",
       "B    1\n",
       "C    2\n",
       "D    3\n",
       "E    4\n",
       "F    5\n",
       "G    6\n",
       "H    7\n",
       "I    8\n",
       "J    9\n",
       "dtype: int64"
      ]
     },
     "execution_count": 9,
     "metadata": {},
     "output_type": "execute_result"
    }
   ],
   "source": [
    "series2 = pd.Series(dico)\n",
    "series2"
   ]
  },
  {
   "cell_type": "code",
   "execution_count": 10,
   "id": "073604d8",
   "metadata": {},
   "outputs": [
    {
     "data": {
      "text/html": [
       "<div>\n",
       "<style scoped>\n",
       "    .dataframe tbody tr th:only-of-type {\n",
       "        vertical-align: middle;\n",
       "    }\n",
       "\n",
       "    .dataframe tbody tr th {\n",
       "        vertical-align: top;\n",
       "    }\n",
       "\n",
       "    .dataframe thead th {\n",
       "        text-align: right;\n",
       "    }\n",
       "</style>\n",
       "<table border=\"1\" class=\"dataframe\">\n",
       "  <thead>\n",
       "    <tr style=\"text-align: right;\">\n",
       "      <th></th>\n",
       "      <th>V</th>\n",
       "      <th>W</th>\n",
       "      <th>X</th>\n",
       "      <th>Y</th>\n",
       "      <th>Z</th>\n",
       "    </tr>\n",
       "  </thead>\n",
       "  <tbody>\n",
       "    <tr>\n",
       "      <th>A</th>\n",
       "      <td>-1.459363</td>\n",
       "      <td>-0.026099</td>\n",
       "      <td>0.507039</td>\n",
       "      <td>-0.847128</td>\n",
       "      <td>1.421485</td>\n",
       "    </tr>\n",
       "    <tr>\n",
       "      <th>B</th>\n",
       "      <td>0.148872</td>\n",
       "      <td>0.066708</td>\n",
       "      <td>-1.205658</td>\n",
       "      <td>0.149185</td>\n",
       "      <td>-1.181823</td>\n",
       "    </tr>\n",
       "    <tr>\n",
       "      <th>C</th>\n",
       "      <td>0.106849</td>\n",
       "      <td>1.196991</td>\n",
       "      <td>-0.768588</td>\n",
       "      <td>1.740896</td>\n",
       "      <td>0.951028</td>\n",
       "    </tr>\n",
       "    <tr>\n",
       "      <th>D</th>\n",
       "      <td>0.686018</td>\n",
       "      <td>-1.390904</td>\n",
       "      <td>1.299287</td>\n",
       "      <td>0.021230</td>\n",
       "      <td>1.830951</td>\n",
       "    </tr>\n",
       "    <tr>\n",
       "      <th>E</th>\n",
       "      <td>-0.196772</td>\n",
       "      <td>0.338550</td>\n",
       "      <td>-0.079230</td>\n",
       "      <td>-1.743529</td>\n",
       "      <td>-1.073145</td>\n",
       "    </tr>\n",
       "  </tbody>\n",
       "</table>\n",
       "</div>"
      ],
      "text/plain": [
       "          V         W         X         Y         Z\n",
       "A -1.459363 -0.026099  0.507039 -0.847128  1.421485\n",
       "B  0.148872  0.066708 -1.205658  0.149185 -1.181823\n",
       "C  0.106849  1.196991 -0.768588  1.740896  0.951028\n",
       "D  0.686018 -1.390904  1.299287  0.021230  1.830951\n",
       "E -0.196772  0.338550 -0.079230 -1.743529 -1.073145"
      ]
     },
     "execution_count": 10,
     "metadata": {},
     "output_type": "execute_result"
    }
   ],
   "source": [
    "df = pd.DataFrame(np.random.randn(5,5), index = 'A/B/C/D/E'.split('/'), columns = 'V/W/X/Y/Z'.split(\"/\"))\n",
    "df"
   ]
  },
  {
   "cell_type": "code",
   "execution_count": 11,
   "id": "5a0ef9f0",
   "metadata": {},
   "outputs": [
    {
     "data": {
      "text/plain": [
       "A   -1.459363\n",
       "B    0.148872\n",
       "C    0.106849\n",
       "D    0.686018\n",
       "E   -0.196772\n",
       "Name: V, dtype: float64"
      ]
     },
     "execution_count": 11,
     "metadata": {},
     "output_type": "execute_result"
    }
   ],
   "source": [
    "df['V']"
   ]
  },
  {
   "cell_type": "code",
   "execution_count": 12,
   "id": "49a41d1d",
   "metadata": {},
   "outputs": [
    {
     "data": {
      "text/html": [
       "<div>\n",
       "<style scoped>\n",
       "    .dataframe tbody tr th:only-of-type {\n",
       "        vertical-align: middle;\n",
       "    }\n",
       "\n",
       "    .dataframe tbody tr th {\n",
       "        vertical-align: top;\n",
       "    }\n",
       "\n",
       "    .dataframe thead th {\n",
       "        text-align: right;\n",
       "    }\n",
       "</style>\n",
       "<table border=\"1\" class=\"dataframe\">\n",
       "  <thead>\n",
       "    <tr style=\"text-align: right;\">\n",
       "      <th></th>\n",
       "      <th>V</th>\n",
       "      <th>X</th>\n",
       "    </tr>\n",
       "  </thead>\n",
       "  <tbody>\n",
       "    <tr>\n",
       "      <th>A</th>\n",
       "      <td>-1.459363</td>\n",
       "      <td>0.507039</td>\n",
       "    </tr>\n",
       "    <tr>\n",
       "      <th>B</th>\n",
       "      <td>0.148872</td>\n",
       "      <td>-1.205658</td>\n",
       "    </tr>\n",
       "    <tr>\n",
       "      <th>C</th>\n",
       "      <td>0.106849</td>\n",
       "      <td>-0.768588</td>\n",
       "    </tr>\n",
       "    <tr>\n",
       "      <th>D</th>\n",
       "      <td>0.686018</td>\n",
       "      <td>1.299287</td>\n",
       "    </tr>\n",
       "    <tr>\n",
       "      <th>E</th>\n",
       "      <td>-0.196772</td>\n",
       "      <td>-0.079230</td>\n",
       "    </tr>\n",
       "  </tbody>\n",
       "</table>\n",
       "</div>"
      ],
      "text/plain": [
       "          V         X\n",
       "A -1.459363  0.507039\n",
       "B  0.148872 -1.205658\n",
       "C  0.106849 -0.768588\n",
       "D  0.686018  1.299287\n",
       "E -0.196772 -0.079230"
      ]
     },
     "execution_count": 12,
     "metadata": {},
     "output_type": "execute_result"
    }
   ],
   "source": [
    "# Selectin Columns\n",
    "df[['V','X']]"
   ]
  },
  {
   "cell_type": "code",
   "execution_count": 13,
   "id": "835b3cf6",
   "metadata": {},
   "outputs": [
    {
     "data": {
      "text/html": [
       "<div>\n",
       "<style scoped>\n",
       "    .dataframe tbody tr th:only-of-type {\n",
       "        vertical-align: middle;\n",
       "    }\n",
       "\n",
       "    .dataframe tbody tr th {\n",
       "        vertical-align: top;\n",
       "    }\n",
       "\n",
       "    .dataframe thead th {\n",
       "        text-align: right;\n",
       "    }\n",
       "</style>\n",
       "<table border=\"1\" class=\"dataframe\">\n",
       "  <thead>\n",
       "    <tr style=\"text-align: right;\">\n",
       "      <th></th>\n",
       "      <th>W</th>\n",
       "      <th>Y</th>\n",
       "    </tr>\n",
       "  </thead>\n",
       "  <tbody>\n",
       "    <tr>\n",
       "      <th>A</th>\n",
       "      <td>-0.026099</td>\n",
       "      <td>-0.847128</td>\n",
       "    </tr>\n",
       "    <tr>\n",
       "      <th>B</th>\n",
       "      <td>0.066708</td>\n",
       "      <td>0.149185</td>\n",
       "    </tr>\n",
       "    <tr>\n",
       "      <th>C</th>\n",
       "      <td>1.196991</td>\n",
       "      <td>1.740896</td>\n",
       "    </tr>\n",
       "    <tr>\n",
       "      <th>D</th>\n",
       "      <td>-1.390904</td>\n",
       "      <td>0.021230</td>\n",
       "    </tr>\n",
       "    <tr>\n",
       "      <th>E</th>\n",
       "      <td>0.338550</td>\n",
       "      <td>-1.743529</td>\n",
       "    </tr>\n",
       "  </tbody>\n",
       "</table>\n",
       "</div>"
      ],
      "text/plain": [
       "          W         Y\n",
       "A -0.026099 -0.847128\n",
       "B  0.066708  0.149185\n",
       "C  1.196991  1.740896\n",
       "D -1.390904  0.021230\n",
       "E  0.338550 -1.743529"
      ]
     },
     "execution_count": 13,
     "metadata": {},
     "output_type": "execute_result"
    }
   ],
   "source": [
    "df[['W','Y']]"
   ]
  },
  {
   "cell_type": "code",
   "execution_count": 14,
   "id": "9ce93059",
   "metadata": {},
   "outputs": [
    {
     "data": {
      "text/plain": [
       "V   -1.459363\n",
       "W   -0.026099\n",
       "X    0.507039\n",
       "Y   -0.847128\n",
       "Z    1.421485\n",
       "Name: A, dtype: float64"
      ]
     },
     "execution_count": 14,
     "metadata": {},
     "output_type": "execute_result"
    }
   ],
   "source": [
    "# We use iloc to select a particular row\n",
    "df.iloc[0]"
   ]
  },
  {
   "cell_type": "code",
   "execution_count": 15,
   "id": "2af894ad",
   "metadata": {},
   "outputs": [
    {
     "data": {
      "text/plain": [
       "0.14887195509406329"
      ]
     },
     "execution_count": 15,
     "metadata": {},
     "output_type": "execute_result"
    }
   ],
   "source": [
    "# loc for name of the row, iloc for the integer location(position) of the row\n",
    "df.loc['B']['V']"
   ]
  },
  {
   "cell_type": "code",
   "execution_count": 16,
   "id": "e46be432",
   "metadata": {},
   "outputs": [
    {
     "data": {
      "text/html": [
       "<div>\n",
       "<style scoped>\n",
       "    .dataframe tbody tr th:only-of-type {\n",
       "        vertical-align: middle;\n",
       "    }\n",
       "\n",
       "    .dataframe tbody tr th {\n",
       "        vertical-align: top;\n",
       "    }\n",
       "\n",
       "    .dataframe thead th {\n",
       "        text-align: right;\n",
       "    }\n",
       "</style>\n",
       "<table border=\"1\" class=\"dataframe\">\n",
       "  <thead>\n",
       "    <tr style=\"text-align: right;\">\n",
       "      <th></th>\n",
       "      <th>V</th>\n",
       "      <th>W</th>\n",
       "      <th>X</th>\n",
       "      <th>Y</th>\n",
       "      <th>Z</th>\n",
       "    </tr>\n",
       "  </thead>\n",
       "  <tbody>\n",
       "    <tr>\n",
       "      <th>A</th>\n",
       "      <td>-1.459363</td>\n",
       "      <td>-0.026099</td>\n",
       "      <td>0.507039</td>\n",
       "      <td>-0.847128</td>\n",
       "      <td>1.421485</td>\n",
       "    </tr>\n",
       "    <tr>\n",
       "      <th>C</th>\n",
       "      <td>0.106849</td>\n",
       "      <td>1.196991</td>\n",
       "      <td>-0.768588</td>\n",
       "      <td>1.740896</td>\n",
       "      <td>0.951028</td>\n",
       "    </tr>\n",
       "    <tr>\n",
       "      <th>D</th>\n",
       "      <td>0.686018</td>\n",
       "      <td>-1.390904</td>\n",
       "      <td>1.299287</td>\n",
       "      <td>0.021230</td>\n",
       "      <td>1.830951</td>\n",
       "    </tr>\n",
       "  </tbody>\n",
       "</table>\n",
       "</div>"
      ],
      "text/plain": [
       "          V         W         X         Y         Z\n",
       "A -1.459363 -0.026099  0.507039 -0.847128  1.421485\n",
       "C  0.106849  1.196991 -0.768588  1.740896  0.951028\n",
       "D  0.686018 -1.390904  1.299287  0.021230  1.830951"
      ]
     },
     "execution_count": 16,
     "metadata": {},
     "output_type": "execute_result"
    }
   ],
   "source": [
    "df[df['Z']> 0]"
   ]
  },
  {
   "cell_type": "code",
   "execution_count": 17,
   "id": "cd474b25",
   "metadata": {},
   "outputs": [],
   "source": [
    "df['U'] = df['V']+ df['Z'] # adding new column to the dataframe"
   ]
  },
  {
   "cell_type": "code",
   "execution_count": 18,
   "id": "309c7187",
   "metadata": {},
   "outputs": [
    {
     "data": {
      "text/html": [
       "<div>\n",
       "<style scoped>\n",
       "    .dataframe tbody tr th:only-of-type {\n",
       "        vertical-align: middle;\n",
       "    }\n",
       "\n",
       "    .dataframe tbody tr th {\n",
       "        vertical-align: top;\n",
       "    }\n",
       "\n",
       "    .dataframe thead th {\n",
       "        text-align: right;\n",
       "    }\n",
       "</style>\n",
       "<table border=\"1\" class=\"dataframe\">\n",
       "  <thead>\n",
       "    <tr style=\"text-align: right;\">\n",
       "      <th></th>\n",
       "      <th>V</th>\n",
       "      <th>W</th>\n",
       "      <th>X</th>\n",
       "      <th>Y</th>\n",
       "      <th>Z</th>\n",
       "      <th>U</th>\n",
       "    </tr>\n",
       "  </thead>\n",
       "  <tbody>\n",
       "    <tr>\n",
       "      <th>A</th>\n",
       "      <td>-1.459363</td>\n",
       "      <td>-0.026099</td>\n",
       "      <td>0.507039</td>\n",
       "      <td>-0.847128</td>\n",
       "      <td>1.421485</td>\n",
       "      <td>-0.037878</td>\n",
       "    </tr>\n",
       "    <tr>\n",
       "      <th>B</th>\n",
       "      <td>0.148872</td>\n",
       "      <td>0.066708</td>\n",
       "      <td>-1.205658</td>\n",
       "      <td>0.149185</td>\n",
       "      <td>-1.181823</td>\n",
       "      <td>-1.032951</td>\n",
       "    </tr>\n",
       "    <tr>\n",
       "      <th>C</th>\n",
       "      <td>0.106849</td>\n",
       "      <td>1.196991</td>\n",
       "      <td>-0.768588</td>\n",
       "      <td>1.740896</td>\n",
       "      <td>0.951028</td>\n",
       "      <td>1.057877</td>\n",
       "    </tr>\n",
       "    <tr>\n",
       "      <th>D</th>\n",
       "      <td>0.686018</td>\n",
       "      <td>-1.390904</td>\n",
       "      <td>1.299287</td>\n",
       "      <td>0.021230</td>\n",
       "      <td>1.830951</td>\n",
       "      <td>2.516969</td>\n",
       "    </tr>\n",
       "    <tr>\n",
       "      <th>E</th>\n",
       "      <td>-0.196772</td>\n",
       "      <td>0.338550</td>\n",
       "      <td>-0.079230</td>\n",
       "      <td>-1.743529</td>\n",
       "      <td>-1.073145</td>\n",
       "      <td>-1.269916</td>\n",
       "    </tr>\n",
       "  </tbody>\n",
       "</table>\n",
       "</div>"
      ],
      "text/plain": [
       "          V         W         X         Y         Z         U\n",
       "A -1.459363 -0.026099  0.507039 -0.847128  1.421485 -0.037878\n",
       "B  0.148872  0.066708 -1.205658  0.149185 -1.181823 -1.032951\n",
       "C  0.106849  1.196991 -0.768588  1.740896  0.951028  1.057877\n",
       "D  0.686018 -1.390904  1.299287  0.021230  1.830951  2.516969\n",
       "E -0.196772  0.338550 -0.079230 -1.743529 -1.073145 -1.269916"
      ]
     },
     "execution_count": 18,
     "metadata": {},
     "output_type": "execute_result"
    }
   ],
   "source": [
    "df"
   ]
  },
  {
   "cell_type": "code",
   "execution_count": 19,
   "id": "ae14fc44",
   "metadata": {},
   "outputs": [
    {
     "data": {
      "text/html": [
       "<div>\n",
       "<style scoped>\n",
       "    .dataframe tbody tr th:only-of-type {\n",
       "        vertical-align: middle;\n",
       "    }\n",
       "\n",
       "    .dataframe tbody tr th {\n",
       "        vertical-align: top;\n",
       "    }\n",
       "\n",
       "    .dataframe thead th {\n",
       "        text-align: right;\n",
       "    }\n",
       "</style>\n",
       "<table border=\"1\" class=\"dataframe\">\n",
       "  <thead>\n",
       "    <tr style=\"text-align: right;\">\n",
       "      <th></th>\n",
       "      <th>V</th>\n",
       "      <th>W</th>\n",
       "      <th>X</th>\n",
       "      <th>Y</th>\n",
       "      <th>Z</th>\n",
       "      <th>U</th>\n",
       "    </tr>\n",
       "  </thead>\n",
       "  <tbody>\n",
       "    <tr>\n",
       "      <th>A</th>\n",
       "      <td>-1.459363</td>\n",
       "      <td>-0.026099</td>\n",
       "      <td>0.507039</td>\n",
       "      <td>-0.847128</td>\n",
       "      <td>1.421485</td>\n",
       "      <td>-0.037878</td>\n",
       "    </tr>\n",
       "    <tr>\n",
       "      <th>C</th>\n",
       "      <td>0.106849</td>\n",
       "      <td>1.196991</td>\n",
       "      <td>-0.768588</td>\n",
       "      <td>1.740896</td>\n",
       "      <td>0.951028</td>\n",
       "      <td>1.057877</td>\n",
       "    </tr>\n",
       "    <tr>\n",
       "      <th>D</th>\n",
       "      <td>0.686018</td>\n",
       "      <td>-1.390904</td>\n",
       "      <td>1.299287</td>\n",
       "      <td>0.021230</td>\n",
       "      <td>1.830951</td>\n",
       "      <td>2.516969</td>\n",
       "    </tr>\n",
       "  </tbody>\n",
       "</table>\n",
       "</div>"
      ],
      "text/plain": [
       "          V         W         X         Y         Z         U\n",
       "A -1.459363 -0.026099  0.507039 -0.847128  1.421485 -0.037878\n",
       "C  0.106849  1.196991 -0.768588  1.740896  0.951028  1.057877\n",
       "D  0.686018 -1.390904  1.299287  0.021230  1.830951  2.516969"
      ]
     },
     "execution_count": 19,
     "metadata": {},
     "output_type": "execute_result"
    }
   ],
   "source": [
    "df[df['U'] > df['V']]"
   ]
  },
  {
   "cell_type": "code",
   "execution_count": 37,
   "id": "896ccf58",
   "metadata": {},
   "outputs": [
    {
     "data": {
      "text/plain": [
       "Z    1.830951\n",
       "X    1.299287\n",
       "Name: D, dtype: float64"
      ]
     },
     "execution_count": 37,
     "metadata": {},
     "output_type": "execute_result"
    }
   ],
   "source": [
    "df.loc['D'][['Z','X']]"
   ]
  },
  {
   "cell_type": "code",
   "execution_count": 38,
   "id": "163668b7",
   "metadata": {},
   "outputs": [
    {
     "data": {
      "text/plain": [
       "X    1.299287\n",
       "Z    1.830951\n",
       "Name: D, dtype: float64"
      ]
     },
     "execution_count": 38,
     "metadata": {},
     "output_type": "execute_result"
    }
   ],
   "source": [
    "df[['X','Z']].loc['D']"
   ]
  },
  {
   "cell_type": "code",
   "execution_count": 40,
   "id": "8808ecb2",
   "metadata": {},
   "outputs": [
    {
     "data": {
      "text/html": [
       "<div>\n",
       "<style scoped>\n",
       "    .dataframe tbody tr th:only-of-type {\n",
       "        vertical-align: middle;\n",
       "    }\n",
       "\n",
       "    .dataframe tbody tr th {\n",
       "        vertical-align: top;\n",
       "    }\n",
       "\n",
       "    .dataframe thead th {\n",
       "        text-align: right;\n",
       "    }\n",
       "</style>\n",
       "<table border=\"1\" class=\"dataframe\">\n",
       "  <thead>\n",
       "    <tr style=\"text-align: right;\">\n",
       "      <th></th>\n",
       "      <th>V</th>\n",
       "      <th>W</th>\n",
       "      <th>X</th>\n",
       "      <th>Y</th>\n",
       "      <th>Z</th>\n",
       "      <th>U</th>\n",
       "    </tr>\n",
       "  </thead>\n",
       "  <tbody>\n",
       "    <tr>\n",
       "      <th>A</th>\n",
       "      <td>-1.459363</td>\n",
       "      <td>-0.026099</td>\n",
       "      <td>0.507039</td>\n",
       "      <td>-0.847128</td>\n",
       "      <td>1.421485</td>\n",
       "      <td>-0.037878</td>\n",
       "    </tr>\n",
       "    <tr>\n",
       "      <th>B</th>\n",
       "      <td>0.148872</td>\n",
       "      <td>0.066708</td>\n",
       "      <td>-1.205658</td>\n",
       "      <td>0.149185</td>\n",
       "      <td>-1.181823</td>\n",
       "      <td>-1.032951</td>\n",
       "    </tr>\n",
       "    <tr>\n",
       "      <th>C</th>\n",
       "      <td>0.106849</td>\n",
       "      <td>1.196991</td>\n",
       "      <td>-0.768588</td>\n",
       "      <td>1.740896</td>\n",
       "      <td>0.951028</td>\n",
       "      <td>1.057877</td>\n",
       "    </tr>\n",
       "    <tr>\n",
       "      <th>D</th>\n",
       "      <td>0.686018</td>\n",
       "      <td>-1.390904</td>\n",
       "      <td>1.299287</td>\n",
       "      <td>0.021230</td>\n",
       "      <td>1.830951</td>\n",
       "      <td>2.516969</td>\n",
       "    </tr>\n",
       "    <tr>\n",
       "      <th>E</th>\n",
       "      <td>-0.196772</td>\n",
       "      <td>0.338550</td>\n",
       "      <td>-0.079230</td>\n",
       "      <td>-1.743529</td>\n",
       "      <td>-1.073145</td>\n",
       "      <td>-1.269916</td>\n",
       "    </tr>\n",
       "  </tbody>\n",
       "</table>\n",
       "</div>"
      ],
      "text/plain": [
       "          V         W         X         Y         Z         U\n",
       "A -1.459363 -0.026099  0.507039 -0.847128  1.421485 -0.037878\n",
       "B  0.148872  0.066708 -1.205658  0.149185 -1.181823 -1.032951\n",
       "C  0.106849  1.196991 -0.768588  1.740896  0.951028  1.057877\n",
       "D  0.686018 -1.390904  1.299287  0.021230  1.830951  2.516969\n",
       "E -0.196772  0.338550 -0.079230 -1.743529 -1.073145 -1.269916"
      ]
     },
     "execution_count": 40,
     "metadata": {},
     "output_type": "execute_result"
    }
   ],
   "source": [
    "df.head() #First 5"
   ]
  },
  {
   "cell_type": "code",
   "execution_count": 42,
   "id": "fd0ce141",
   "metadata": {},
   "outputs": [
    {
     "data": {
      "text/html": [
       "<div>\n",
       "<style scoped>\n",
       "    .dataframe tbody tr th:only-of-type {\n",
       "        vertical-align: middle;\n",
       "    }\n",
       "\n",
       "    .dataframe tbody tr th {\n",
       "        vertical-align: top;\n",
       "    }\n",
       "\n",
       "    .dataframe thead th {\n",
       "        text-align: right;\n",
       "    }\n",
       "</style>\n",
       "<table border=\"1\" class=\"dataframe\">\n",
       "  <thead>\n",
       "    <tr style=\"text-align: right;\">\n",
       "      <th></th>\n",
       "      <th>V</th>\n",
       "      <th>W</th>\n",
       "      <th>X</th>\n",
       "      <th>Y</th>\n",
       "      <th>Z</th>\n",
       "      <th>U</th>\n",
       "    </tr>\n",
       "  </thead>\n",
       "  <tbody>\n",
       "    <tr>\n",
       "      <th>A</th>\n",
       "      <td>-1.459363</td>\n",
       "      <td>-0.026099</td>\n",
       "      <td>0.507039</td>\n",
       "      <td>-0.847128</td>\n",
       "      <td>1.421485</td>\n",
       "      <td>-0.037878</td>\n",
       "    </tr>\n",
       "    <tr>\n",
       "      <th>B</th>\n",
       "      <td>0.148872</td>\n",
       "      <td>0.066708</td>\n",
       "      <td>-1.205658</td>\n",
       "      <td>0.149185</td>\n",
       "      <td>-1.181823</td>\n",
       "      <td>-1.032951</td>\n",
       "    </tr>\n",
       "    <tr>\n",
       "      <th>C</th>\n",
       "      <td>0.106849</td>\n",
       "      <td>1.196991</td>\n",
       "      <td>-0.768588</td>\n",
       "      <td>1.740896</td>\n",
       "      <td>0.951028</td>\n",
       "      <td>1.057877</td>\n",
       "    </tr>\n",
       "    <tr>\n",
       "      <th>D</th>\n",
       "      <td>0.686018</td>\n",
       "      <td>-1.390904</td>\n",
       "      <td>1.299287</td>\n",
       "      <td>0.021230</td>\n",
       "      <td>1.830951</td>\n",
       "      <td>2.516969</td>\n",
       "    </tr>\n",
       "    <tr>\n",
       "      <th>E</th>\n",
       "      <td>-0.196772</td>\n",
       "      <td>0.338550</td>\n",
       "      <td>-0.079230</td>\n",
       "      <td>-1.743529</td>\n",
       "      <td>-1.073145</td>\n",
       "      <td>-1.269916</td>\n",
       "    </tr>\n",
       "  </tbody>\n",
       "</table>\n",
       "</div>"
      ],
      "text/plain": [
       "          V         W         X         Y         Z         U\n",
       "A -1.459363 -0.026099  0.507039 -0.847128  1.421485 -0.037878\n",
       "B  0.148872  0.066708 -1.205658  0.149185 -1.181823 -1.032951\n",
       "C  0.106849  1.196991 -0.768588  1.740896  0.951028  1.057877\n",
       "D  0.686018 -1.390904  1.299287  0.021230  1.830951  2.516969\n",
       "E -0.196772  0.338550 -0.079230 -1.743529 -1.073145 -1.269916"
      ]
     },
     "execution_count": 42,
     "metadata": {},
     "output_type": "execute_result"
    }
   ],
   "source": [
    "df.tail() #Last 5"
   ]
  },
  {
   "cell_type": "markdown",
   "id": "115a647d",
   "metadata": {},
   "source": [
    "# Concatinate"
   ]
  },
  {
   "cell_type": "code",
   "execution_count": 55,
   "id": "2d25db3b",
   "metadata": {},
   "outputs": [],
   "source": [
    "df1 = pd.DataFrame({'A':['A0','A1','A2','A3'],\n",
    "                   'B':['C0','C1','C2','C3'],\n",
    "                   'C':['C0','C1','C2','C3']},index =[0,1,2,3])\n",
    "df1\n",
    "df2 = pd.DataFrame({'A':['A4','A5','A6','A7']},index = [4,5,6,7])"
   ]
  },
  {
   "cell_type": "code",
   "execution_count": 56,
   "id": "016fa10f",
   "metadata": {},
   "outputs": [
    {
     "data": {
      "text/html": [
       "<div>\n",
       "<style scoped>\n",
       "    .dataframe tbody tr th:only-of-type {\n",
       "        vertical-align: middle;\n",
       "    }\n",
       "\n",
       "    .dataframe tbody tr th {\n",
       "        vertical-align: top;\n",
       "    }\n",
       "\n",
       "    .dataframe thead th {\n",
       "        text-align: right;\n",
       "    }\n",
       "</style>\n",
       "<table border=\"1\" class=\"dataframe\">\n",
       "  <thead>\n",
       "    <tr style=\"text-align: right;\">\n",
       "      <th></th>\n",
       "      <th>A</th>\n",
       "      <th>B</th>\n",
       "      <th>C</th>\n",
       "      <th>A</th>\n",
       "    </tr>\n",
       "  </thead>\n",
       "  <tbody>\n",
       "    <tr>\n",
       "      <th>0</th>\n",
       "      <td>A0</td>\n",
       "      <td>C0</td>\n",
       "      <td>C0</td>\n",
       "      <td>NaN</td>\n",
       "    </tr>\n",
       "    <tr>\n",
       "      <th>1</th>\n",
       "      <td>A1</td>\n",
       "      <td>C1</td>\n",
       "      <td>C1</td>\n",
       "      <td>NaN</td>\n",
       "    </tr>\n",
       "    <tr>\n",
       "      <th>2</th>\n",
       "      <td>A2</td>\n",
       "      <td>C2</td>\n",
       "      <td>C2</td>\n",
       "      <td>NaN</td>\n",
       "    </tr>\n",
       "    <tr>\n",
       "      <th>3</th>\n",
       "      <td>A3</td>\n",
       "      <td>C3</td>\n",
       "      <td>C3</td>\n",
       "      <td>NaN</td>\n",
       "    </tr>\n",
       "    <tr>\n",
       "      <th>4</th>\n",
       "      <td>NaN</td>\n",
       "      <td>NaN</td>\n",
       "      <td>NaN</td>\n",
       "      <td>A4</td>\n",
       "    </tr>\n",
       "    <tr>\n",
       "      <th>5</th>\n",
       "      <td>NaN</td>\n",
       "      <td>NaN</td>\n",
       "      <td>NaN</td>\n",
       "      <td>A5</td>\n",
       "    </tr>\n",
       "    <tr>\n",
       "      <th>6</th>\n",
       "      <td>NaN</td>\n",
       "      <td>NaN</td>\n",
       "      <td>NaN</td>\n",
       "      <td>A6</td>\n",
       "    </tr>\n",
       "    <tr>\n",
       "      <th>7</th>\n",
       "      <td>NaN</td>\n",
       "      <td>NaN</td>\n",
       "      <td>NaN</td>\n",
       "      <td>A7</td>\n",
       "    </tr>\n",
       "  </tbody>\n",
       "</table>\n",
       "</div>"
      ],
      "text/plain": [
       "     A    B    C    A\n",
       "0   A0   C0   C0  NaN\n",
       "1   A1   C1   C1  NaN\n",
       "2   A2   C2   C2  NaN\n",
       "3   A3   C3   C3  NaN\n",
       "4  NaN  NaN  NaN   A4\n",
       "5  NaN  NaN  NaN   A5\n",
       "6  NaN  NaN  NaN   A6\n",
       "7  NaN  NaN  NaN   A7"
      ]
     },
     "execution_count": 56,
     "metadata": {},
     "output_type": "execute_result"
    }
   ],
   "source": [
    "pd.concat([df1,df2],axis =1)"
   ]
  },
  {
   "cell_type": "markdown",
   "id": "84b4aa6b",
   "metadata": {},
   "source": [
    "# Merging and joining DataFrame"
   ]
  },
  {
   "cell_type": "code",
   "execution_count": null,
   "id": "8d9c2e04",
   "metadata": {},
   "outputs": [],
   "source": []
  }
 ],
 "metadata": {
  "kernelspec": {
   "display_name": "Python 3 (ipykernel)",
   "language": "python",
   "name": "python3"
  },
  "language_info": {
   "codemirror_mode": {
    "name": "ipython",
    "version": 3
   },
   "file_extension": ".py",
   "mimetype": "text/x-python",
   "name": "python",
   "nbconvert_exporter": "python",
   "pygments_lexer": "ipython3",
   "version": "3.9.12"
  }
 },
 "nbformat": 4,
 "nbformat_minor": 5
}
