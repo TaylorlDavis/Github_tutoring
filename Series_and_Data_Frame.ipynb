{
 "cells": [
  {
   "cell_type": "code",
   "execution_count": 1,
   "id": "f3a8124f",
   "metadata": {},
   "outputs": [],
   "source": [
    "import pandas as pd\n",
    "import numpy as np\n",
    "import random\n"
   ]
  },
  {
   "cell_type": "markdown",
   "id": "da72d02b",
   "metadata": {},
   "source": [
    "* # Series is just single column of data"
   ]
  },
  {
   "cell_type": "code",
   "execution_count": 2,
   "id": "792f2c4a",
   "metadata": {},
   "outputs": [
    {
     "data": {
      "text/plain": [
       "[0, 1, 2, 3, 4, 5, 6, 7, 8, 9]"
      ]
     },
     "execution_count": 2,
     "metadata": {},
     "output_type": "execute_result"
    }
   ],
   "source": [
    "data1 = [i for i in range(10)]\n",
    "data1"
   ]
  },
  {
   "cell_type": "code",
   "execution_count": 3,
   "id": "5c9eefe7",
   "metadata": {},
   "outputs": [],
   "source": [
    "import string"
   ]
  },
  {
   "cell_type": "code",
   "execution_count": 4,
   "id": "8eb9e593",
   "metadata": {},
   "outputs": [
    {
     "name": "stdout",
     "output_type": "stream",
     "text": [
      "['A', 'B', 'C', 'D', 'E', 'F', 'G', 'H', 'I', 'J', 'K', 'L', 'M', 'N', 'O', 'P', 'Q', 'R', 'S', 'T', 'U', 'V', 'W', 'X', 'Y', 'Z']\n"
     ]
    }
   ],
   "source": [
    "alphalist = list(string.ascii_uppercase)\n",
    "print(alphalist)"
   ]
  },
  {
   "cell_type": "code",
   "execution_count": 5,
   "id": "1f1806c8",
   "metadata": {},
   "outputs": [
    {
     "data": {
      "text/plain": [
       "['A', 'B', 'C', 'D', 'E', 'F', 'G', 'H', 'I', 'J']"
      ]
     },
     "execution_count": 5,
     "metadata": {},
     "output_type": "execute_result"
    }
   ],
   "source": [
    "index1 = [alphalist[i] for i in range(10)]\n",
    "index1"
   ]
  },
  {
   "cell_type": "code",
   "execution_count": 6,
   "id": "d623eb5d",
   "metadata": {},
   "outputs": [],
   "source": [
    "series1 = pd.Series(data = data1, index = index1)"
   ]
  },
  {
   "cell_type": "code",
   "execution_count": 7,
   "id": "a032c902",
   "metadata": {},
   "outputs": [
    {
     "data": {
      "text/plain": [
       "A    0\n",
       "B    1\n",
       "C    2\n",
       "D    3\n",
       "E    4\n",
       "F    5\n",
       "G    6\n",
       "H    7\n",
       "I    8\n",
       "J    9\n",
       "dtype: int64"
      ]
     },
     "execution_count": 7,
     "metadata": {},
     "output_type": "execute_result"
    }
   ],
   "source": [
    "series1"
   ]
  },
  {
   "cell_type": "code",
   "execution_count": 8,
   "id": "af09e098",
   "metadata": {},
   "outputs": [],
   "source": [
    "dico = {k:v for k,v in zip(index1,data1)}"
   ]
  },
  {
   "cell_type": "code",
   "execution_count": 9,
   "id": "a970a460",
   "metadata": {},
   "outputs": [
    {
     "data": {
      "text/plain": [
       "A    0\n",
       "B    1\n",
       "C    2\n",
       "D    3\n",
       "E    4\n",
       "F    5\n",
       "G    6\n",
       "H    7\n",
       "I    8\n",
       "J    9\n",
       "dtype: int64"
      ]
     },
     "execution_count": 9,
     "metadata": {},
     "output_type": "execute_result"
    }
   ],
   "source": [
    "series2 = pd.Series(dico)\n",
    "series2"
   ]
  },
  {
   "cell_type": "code",
   "execution_count": 10,
   "id": "073604d8",
   "metadata": {},
   "outputs": [
    {
     "data": {
      "text/html": [
       "<div>\n",
       "<style scoped>\n",
       "    .dataframe tbody tr th:only-of-type {\n",
       "        vertical-align: middle;\n",
       "    }\n",
       "\n",
       "    .dataframe tbody tr th {\n",
       "        vertical-align: top;\n",
       "    }\n",
       "\n",
       "    .dataframe thead th {\n",
       "        text-align: right;\n",
       "    }\n",
       "</style>\n",
       "<table border=\"1\" class=\"dataframe\">\n",
       "  <thead>\n",
       "    <tr style=\"text-align: right;\">\n",
       "      <th></th>\n",
       "      <th>V</th>\n",
       "      <th>W</th>\n",
       "      <th>X</th>\n",
       "      <th>Y</th>\n",
       "      <th>Z</th>\n",
       "    </tr>\n",
       "  </thead>\n",
       "  <tbody>\n",
       "    <tr>\n",
       "      <th>A</th>\n",
       "      <td>-0.245681</td>\n",
       "      <td>-0.149769</td>\n",
       "      <td>0.953707</td>\n",
       "      <td>-0.453921</td>\n",
       "      <td>0.625827</td>\n",
       "    </tr>\n",
       "    <tr>\n",
       "      <th>B</th>\n",
       "      <td>-1.361143</td>\n",
       "      <td>-0.142772</td>\n",
       "      <td>-1.577839</td>\n",
       "      <td>-1.248828</td>\n",
       "      <td>1.003281</td>\n",
       "    </tr>\n",
       "    <tr>\n",
       "      <th>C</th>\n",
       "      <td>1.437332</td>\n",
       "      <td>-1.388466</td>\n",
       "      <td>0.385773</td>\n",
       "      <td>-0.704771</td>\n",
       "      <td>-0.522076</td>\n",
       "    </tr>\n",
       "    <tr>\n",
       "      <th>D</th>\n",
       "      <td>-0.693832</td>\n",
       "      <td>0.459937</td>\n",
       "      <td>0.374370</td>\n",
       "      <td>0.658910</td>\n",
       "      <td>-0.850656</td>\n",
       "    </tr>\n",
       "    <tr>\n",
       "      <th>E</th>\n",
       "      <td>-1.878883</td>\n",
       "      <td>-1.927642</td>\n",
       "      <td>-0.293436</td>\n",
       "      <td>0.395478</td>\n",
       "      <td>-0.708160</td>\n",
       "    </tr>\n",
       "  </tbody>\n",
       "</table>\n",
       "</div>"
      ],
      "text/plain": [
       "          V         W         X         Y         Z\n",
       "A -0.245681 -0.149769  0.953707 -0.453921  0.625827\n",
       "B -1.361143 -0.142772 -1.577839 -1.248828  1.003281\n",
       "C  1.437332 -1.388466  0.385773 -0.704771 -0.522076\n",
       "D -0.693832  0.459937  0.374370  0.658910 -0.850656\n",
       "E -1.878883 -1.927642 -0.293436  0.395478 -0.708160"
      ]
     },
     "execution_count": 10,
     "metadata": {},
     "output_type": "execute_result"
    }
   ],
   "source": [
    "df = pd.DataFrame(np.random.randn(5,5), index = 'A/B/C/D/E'.split('/'), columns = 'V/W/X/Y/Z'.split(\"/\"))\n",
    "df"
   ]
  },
  {
   "cell_type": "code",
   "execution_count": 11,
   "id": "5a0ef9f0",
   "metadata": {},
   "outputs": [
    {
     "data": {
      "text/plain": [
       "A   -0.245681\n",
       "B   -1.361143\n",
       "C    1.437332\n",
       "D   -0.693832\n",
       "E   -1.878883\n",
       "Name: V, dtype: float64"
      ]
     },
     "execution_count": 11,
     "metadata": {},
     "output_type": "execute_result"
    }
   ],
   "source": [
    "df['V']"
   ]
  },
  {
   "cell_type": "code",
   "execution_count": 12,
   "id": "49a41d1d",
   "metadata": {},
   "outputs": [
    {
     "data": {
      "text/html": [
       "<div>\n",
       "<style scoped>\n",
       "    .dataframe tbody tr th:only-of-type {\n",
       "        vertical-align: middle;\n",
       "    }\n",
       "\n",
       "    .dataframe tbody tr th {\n",
       "        vertical-align: top;\n",
       "    }\n",
       "\n",
       "    .dataframe thead th {\n",
       "        text-align: right;\n",
       "    }\n",
       "</style>\n",
       "<table border=\"1\" class=\"dataframe\">\n",
       "  <thead>\n",
       "    <tr style=\"text-align: right;\">\n",
       "      <th></th>\n",
       "      <th>V</th>\n",
       "      <th>X</th>\n",
       "    </tr>\n",
       "  </thead>\n",
       "  <tbody>\n",
       "    <tr>\n",
       "      <th>A</th>\n",
       "      <td>-0.245681</td>\n",
       "      <td>0.953707</td>\n",
       "    </tr>\n",
       "    <tr>\n",
       "      <th>B</th>\n",
       "      <td>-1.361143</td>\n",
       "      <td>-1.577839</td>\n",
       "    </tr>\n",
       "    <tr>\n",
       "      <th>C</th>\n",
       "      <td>1.437332</td>\n",
       "      <td>0.385773</td>\n",
       "    </tr>\n",
       "    <tr>\n",
       "      <th>D</th>\n",
       "      <td>-0.693832</td>\n",
       "      <td>0.374370</td>\n",
       "    </tr>\n",
       "    <tr>\n",
       "      <th>E</th>\n",
       "      <td>-1.878883</td>\n",
       "      <td>-0.293436</td>\n",
       "    </tr>\n",
       "  </tbody>\n",
       "</table>\n",
       "</div>"
      ],
      "text/plain": [
       "          V         X\n",
       "A -0.245681  0.953707\n",
       "B -1.361143 -1.577839\n",
       "C  1.437332  0.385773\n",
       "D -0.693832  0.374370\n",
       "E -1.878883 -0.293436"
      ]
     },
     "execution_count": 12,
     "metadata": {},
     "output_type": "execute_result"
    }
   ],
   "source": [
    "# Selectin Columns\n",
    "df[['V','X']]"
   ]
  },
  {
   "cell_type": "code",
   "execution_count": 13,
   "id": "835b3cf6",
   "metadata": {},
   "outputs": [
    {
     "data": {
      "text/html": [
       "<div>\n",
       "<style scoped>\n",
       "    .dataframe tbody tr th:only-of-type {\n",
       "        vertical-align: middle;\n",
       "    }\n",
       "\n",
       "    .dataframe tbody tr th {\n",
       "        vertical-align: top;\n",
       "    }\n",
       "\n",
       "    .dataframe thead th {\n",
       "        text-align: right;\n",
       "    }\n",
       "</style>\n",
       "<table border=\"1\" class=\"dataframe\">\n",
       "  <thead>\n",
       "    <tr style=\"text-align: right;\">\n",
       "      <th></th>\n",
       "      <th>W</th>\n",
       "      <th>Y</th>\n",
       "    </tr>\n",
       "  </thead>\n",
       "  <tbody>\n",
       "    <tr>\n",
       "      <th>A</th>\n",
       "      <td>-0.149769</td>\n",
       "      <td>-0.453921</td>\n",
       "    </tr>\n",
       "    <tr>\n",
       "      <th>B</th>\n",
       "      <td>-0.142772</td>\n",
       "      <td>-1.248828</td>\n",
       "    </tr>\n",
       "    <tr>\n",
       "      <th>C</th>\n",
       "      <td>-1.388466</td>\n",
       "      <td>-0.704771</td>\n",
       "    </tr>\n",
       "    <tr>\n",
       "      <th>D</th>\n",
       "      <td>0.459937</td>\n",
       "      <td>0.658910</td>\n",
       "    </tr>\n",
       "    <tr>\n",
       "      <th>E</th>\n",
       "      <td>-1.927642</td>\n",
       "      <td>0.395478</td>\n",
       "    </tr>\n",
       "  </tbody>\n",
       "</table>\n",
       "</div>"
      ],
      "text/plain": [
       "          W         Y\n",
       "A -0.149769 -0.453921\n",
       "B -0.142772 -1.248828\n",
       "C -1.388466 -0.704771\n",
       "D  0.459937  0.658910\n",
       "E -1.927642  0.395478"
      ]
     },
     "execution_count": 13,
     "metadata": {},
     "output_type": "execute_result"
    }
   ],
   "source": [
    "df[['W','Y']]"
   ]
  },
  {
   "cell_type": "code",
   "execution_count": 14,
   "id": "9ce93059",
   "metadata": {},
   "outputs": [
    {
     "data": {
      "text/plain": [
       "V   -0.245681\n",
       "W   -0.149769\n",
       "X    0.953707\n",
       "Y   -0.453921\n",
       "Z    0.625827\n",
       "Name: A, dtype: float64"
      ]
     },
     "execution_count": 14,
     "metadata": {},
     "output_type": "execute_result"
    }
   ],
   "source": [
    "# We use iloc to select a particular row\n",
    "df.iloc[0]"
   ]
  },
  {
   "cell_type": "code",
   "execution_count": 15,
   "id": "2af894ad",
   "metadata": {},
   "outputs": [
    {
     "data": {
      "text/plain": [
       "-1.3611429062501343"
      ]
     },
     "execution_count": 15,
     "metadata": {},
     "output_type": "execute_result"
    }
   ],
   "source": [
    "# loc for name of the row, iloc for the integer location(position) of the row\n",
    "df.loc['B']['V']"
   ]
  },
  {
   "cell_type": "code",
   "execution_count": 16,
   "id": "e46be432",
   "metadata": {},
   "outputs": [
    {
     "data": {
      "text/html": [
       "<div>\n",
       "<style scoped>\n",
       "    .dataframe tbody tr th:only-of-type {\n",
       "        vertical-align: middle;\n",
       "    }\n",
       "\n",
       "    .dataframe tbody tr th {\n",
       "        vertical-align: top;\n",
       "    }\n",
       "\n",
       "    .dataframe thead th {\n",
       "        text-align: right;\n",
       "    }\n",
       "</style>\n",
       "<table border=\"1\" class=\"dataframe\">\n",
       "  <thead>\n",
       "    <tr style=\"text-align: right;\">\n",
       "      <th></th>\n",
       "      <th>V</th>\n",
       "      <th>W</th>\n",
       "      <th>X</th>\n",
       "      <th>Y</th>\n",
       "      <th>Z</th>\n",
       "    </tr>\n",
       "  </thead>\n",
       "  <tbody>\n",
       "    <tr>\n",
       "      <th>A</th>\n",
       "      <td>-0.245681</td>\n",
       "      <td>-0.149769</td>\n",
       "      <td>0.953707</td>\n",
       "      <td>-0.453921</td>\n",
       "      <td>0.625827</td>\n",
       "    </tr>\n",
       "    <tr>\n",
       "      <th>B</th>\n",
       "      <td>-1.361143</td>\n",
       "      <td>-0.142772</td>\n",
       "      <td>-1.577839</td>\n",
       "      <td>-1.248828</td>\n",
       "      <td>1.003281</td>\n",
       "    </tr>\n",
       "  </tbody>\n",
       "</table>\n",
       "</div>"
      ],
      "text/plain": [
       "          V         W         X         Y         Z\n",
       "A -0.245681 -0.149769  0.953707 -0.453921  0.625827\n",
       "B -1.361143 -0.142772 -1.577839 -1.248828  1.003281"
      ]
     },
     "execution_count": 16,
     "metadata": {},
     "output_type": "execute_result"
    }
   ],
   "source": [
    "df[df['Z']> 0]"
   ]
  },
  {
   "cell_type": "code",
   "execution_count": 17,
   "id": "cd474b25",
   "metadata": {},
   "outputs": [],
   "source": [
    "df['U'] = df['V']+ df['Z'] # adding new column to the dataframe"
   ]
  },
  {
   "cell_type": "code",
   "execution_count": 18,
   "id": "309c7187",
   "metadata": {},
   "outputs": [
    {
     "data": {
      "text/html": [
       "<div>\n",
       "<style scoped>\n",
       "    .dataframe tbody tr th:only-of-type {\n",
       "        vertical-align: middle;\n",
       "    }\n",
       "\n",
       "    .dataframe tbody tr th {\n",
       "        vertical-align: top;\n",
       "    }\n",
       "\n",
       "    .dataframe thead th {\n",
       "        text-align: right;\n",
       "    }\n",
       "</style>\n",
       "<table border=\"1\" class=\"dataframe\">\n",
       "  <thead>\n",
       "    <tr style=\"text-align: right;\">\n",
       "      <th></th>\n",
       "      <th>V</th>\n",
       "      <th>W</th>\n",
       "      <th>X</th>\n",
       "      <th>Y</th>\n",
       "      <th>Z</th>\n",
       "      <th>U</th>\n",
       "    </tr>\n",
       "  </thead>\n",
       "  <tbody>\n",
       "    <tr>\n",
       "      <th>A</th>\n",
       "      <td>-0.245681</td>\n",
       "      <td>-0.149769</td>\n",
       "      <td>0.953707</td>\n",
       "      <td>-0.453921</td>\n",
       "      <td>0.625827</td>\n",
       "      <td>0.380145</td>\n",
       "    </tr>\n",
       "    <tr>\n",
       "      <th>B</th>\n",
       "      <td>-1.361143</td>\n",
       "      <td>-0.142772</td>\n",
       "      <td>-1.577839</td>\n",
       "      <td>-1.248828</td>\n",
       "      <td>1.003281</td>\n",
       "      <td>-0.357862</td>\n",
       "    </tr>\n",
       "    <tr>\n",
       "      <th>C</th>\n",
       "      <td>1.437332</td>\n",
       "      <td>-1.388466</td>\n",
       "      <td>0.385773</td>\n",
       "      <td>-0.704771</td>\n",
       "      <td>-0.522076</td>\n",
       "      <td>0.915256</td>\n",
       "    </tr>\n",
       "    <tr>\n",
       "      <th>D</th>\n",
       "      <td>-0.693832</td>\n",
       "      <td>0.459937</td>\n",
       "      <td>0.374370</td>\n",
       "      <td>0.658910</td>\n",
       "      <td>-0.850656</td>\n",
       "      <td>-1.544488</td>\n",
       "    </tr>\n",
       "    <tr>\n",
       "      <th>E</th>\n",
       "      <td>-1.878883</td>\n",
       "      <td>-1.927642</td>\n",
       "      <td>-0.293436</td>\n",
       "      <td>0.395478</td>\n",
       "      <td>-0.708160</td>\n",
       "      <td>-2.587043</td>\n",
       "    </tr>\n",
       "  </tbody>\n",
       "</table>\n",
       "</div>"
      ],
      "text/plain": [
       "          V         W         X         Y         Z         U\n",
       "A -0.245681 -0.149769  0.953707 -0.453921  0.625827  0.380145\n",
       "B -1.361143 -0.142772 -1.577839 -1.248828  1.003281 -0.357862\n",
       "C  1.437332 -1.388466  0.385773 -0.704771 -0.522076  0.915256\n",
       "D -0.693832  0.459937  0.374370  0.658910 -0.850656 -1.544488\n",
       "E -1.878883 -1.927642 -0.293436  0.395478 -0.708160 -2.587043"
      ]
     },
     "execution_count": 18,
     "metadata": {},
     "output_type": "execute_result"
    }
   ],
   "source": [
    "df"
   ]
  },
  {
   "cell_type": "code",
   "execution_count": 19,
   "id": "ae14fc44",
   "metadata": {},
   "outputs": [
    {
     "data": {
      "text/html": [
       "<div>\n",
       "<style scoped>\n",
       "    .dataframe tbody tr th:only-of-type {\n",
       "        vertical-align: middle;\n",
       "    }\n",
       "\n",
       "    .dataframe tbody tr th {\n",
       "        vertical-align: top;\n",
       "    }\n",
       "\n",
       "    .dataframe thead th {\n",
       "        text-align: right;\n",
       "    }\n",
       "</style>\n",
       "<table border=\"1\" class=\"dataframe\">\n",
       "  <thead>\n",
       "    <tr style=\"text-align: right;\">\n",
       "      <th></th>\n",
       "      <th>V</th>\n",
       "      <th>W</th>\n",
       "      <th>X</th>\n",
       "      <th>Y</th>\n",
       "      <th>Z</th>\n",
       "      <th>U</th>\n",
       "    </tr>\n",
       "  </thead>\n",
       "  <tbody>\n",
       "    <tr>\n",
       "      <th>A</th>\n",
       "      <td>-0.245681</td>\n",
       "      <td>-0.149769</td>\n",
       "      <td>0.953707</td>\n",
       "      <td>-0.453921</td>\n",
       "      <td>0.625827</td>\n",
       "      <td>0.380145</td>\n",
       "    </tr>\n",
       "    <tr>\n",
       "      <th>B</th>\n",
       "      <td>-1.361143</td>\n",
       "      <td>-0.142772</td>\n",
       "      <td>-1.577839</td>\n",
       "      <td>-1.248828</td>\n",
       "      <td>1.003281</td>\n",
       "      <td>-0.357862</td>\n",
       "    </tr>\n",
       "  </tbody>\n",
       "</table>\n",
       "</div>"
      ],
      "text/plain": [
       "          V         W         X         Y         Z         U\n",
       "A -0.245681 -0.149769  0.953707 -0.453921  0.625827  0.380145\n",
       "B -1.361143 -0.142772 -1.577839 -1.248828  1.003281 -0.357862"
      ]
     },
     "execution_count": 19,
     "metadata": {},
     "output_type": "execute_result"
    }
   ],
   "source": [
    "df[df['U'] > df['V']]"
   ]
  },
  {
   "cell_type": "code",
   "execution_count": 20,
   "id": "896ccf58",
   "metadata": {},
   "outputs": [
    {
     "data": {
      "text/plain": [
       "Z   -0.850656\n",
       "X    0.374370\n",
       "Name: D, dtype: float64"
      ]
     },
     "execution_count": 20,
     "metadata": {},
     "output_type": "execute_result"
    }
   ],
   "source": [
    "df.loc['D'][['Z','X']]"
   ]
  },
  {
   "cell_type": "code",
   "execution_count": 21,
   "id": "163668b7",
   "metadata": {},
   "outputs": [
    {
     "data": {
      "text/plain": [
       "X    0.374370\n",
       "Z   -0.850656\n",
       "Name: D, dtype: float64"
      ]
     },
     "execution_count": 21,
     "metadata": {},
     "output_type": "execute_result"
    }
   ],
   "source": [
    "df[['X','Z']].loc['D']"
   ]
  },
  {
   "cell_type": "code",
   "execution_count": 22,
   "id": "8808ecb2",
   "metadata": {},
   "outputs": [
    {
     "data": {
      "text/html": [
       "<div>\n",
       "<style scoped>\n",
       "    .dataframe tbody tr th:only-of-type {\n",
       "        vertical-align: middle;\n",
       "    }\n",
       "\n",
       "    .dataframe tbody tr th {\n",
       "        vertical-align: top;\n",
       "    }\n",
       "\n",
       "    .dataframe thead th {\n",
       "        text-align: right;\n",
       "    }\n",
       "</style>\n",
       "<table border=\"1\" class=\"dataframe\">\n",
       "  <thead>\n",
       "    <tr style=\"text-align: right;\">\n",
       "      <th></th>\n",
       "      <th>V</th>\n",
       "      <th>W</th>\n",
       "      <th>X</th>\n",
       "      <th>Y</th>\n",
       "      <th>Z</th>\n",
       "      <th>U</th>\n",
       "    </tr>\n",
       "  </thead>\n",
       "  <tbody>\n",
       "    <tr>\n",
       "      <th>A</th>\n",
       "      <td>-0.245681</td>\n",
       "      <td>-0.149769</td>\n",
       "      <td>0.953707</td>\n",
       "      <td>-0.453921</td>\n",
       "      <td>0.625827</td>\n",
       "      <td>0.380145</td>\n",
       "    </tr>\n",
       "    <tr>\n",
       "      <th>B</th>\n",
       "      <td>-1.361143</td>\n",
       "      <td>-0.142772</td>\n",
       "      <td>-1.577839</td>\n",
       "      <td>-1.248828</td>\n",
       "      <td>1.003281</td>\n",
       "      <td>-0.357862</td>\n",
       "    </tr>\n",
       "    <tr>\n",
       "      <th>C</th>\n",
       "      <td>1.437332</td>\n",
       "      <td>-1.388466</td>\n",
       "      <td>0.385773</td>\n",
       "      <td>-0.704771</td>\n",
       "      <td>-0.522076</td>\n",
       "      <td>0.915256</td>\n",
       "    </tr>\n",
       "    <tr>\n",
       "      <th>D</th>\n",
       "      <td>-0.693832</td>\n",
       "      <td>0.459937</td>\n",
       "      <td>0.374370</td>\n",
       "      <td>0.658910</td>\n",
       "      <td>-0.850656</td>\n",
       "      <td>-1.544488</td>\n",
       "    </tr>\n",
       "    <tr>\n",
       "      <th>E</th>\n",
       "      <td>-1.878883</td>\n",
       "      <td>-1.927642</td>\n",
       "      <td>-0.293436</td>\n",
       "      <td>0.395478</td>\n",
       "      <td>-0.708160</td>\n",
       "      <td>-2.587043</td>\n",
       "    </tr>\n",
       "  </tbody>\n",
       "</table>\n",
       "</div>"
      ],
      "text/plain": [
       "          V         W         X         Y         Z         U\n",
       "A -0.245681 -0.149769  0.953707 -0.453921  0.625827  0.380145\n",
       "B -1.361143 -0.142772 -1.577839 -1.248828  1.003281 -0.357862\n",
       "C  1.437332 -1.388466  0.385773 -0.704771 -0.522076  0.915256\n",
       "D -0.693832  0.459937  0.374370  0.658910 -0.850656 -1.544488\n",
       "E -1.878883 -1.927642 -0.293436  0.395478 -0.708160 -2.587043"
      ]
     },
     "execution_count": 22,
     "metadata": {},
     "output_type": "execute_result"
    }
   ],
   "source": [
    "df.head() #First 5"
   ]
  },
  {
   "cell_type": "code",
   "execution_count": 23,
   "id": "fd0ce141",
   "metadata": {},
   "outputs": [
    {
     "data": {
      "text/html": [
       "<div>\n",
       "<style scoped>\n",
       "    .dataframe tbody tr th:only-of-type {\n",
       "        vertical-align: middle;\n",
       "    }\n",
       "\n",
       "    .dataframe tbody tr th {\n",
       "        vertical-align: top;\n",
       "    }\n",
       "\n",
       "    .dataframe thead th {\n",
       "        text-align: right;\n",
       "    }\n",
       "</style>\n",
       "<table border=\"1\" class=\"dataframe\">\n",
       "  <thead>\n",
       "    <tr style=\"text-align: right;\">\n",
       "      <th></th>\n",
       "      <th>V</th>\n",
       "      <th>W</th>\n",
       "      <th>X</th>\n",
       "      <th>Y</th>\n",
       "      <th>Z</th>\n",
       "      <th>U</th>\n",
       "    </tr>\n",
       "  </thead>\n",
       "  <tbody>\n",
       "    <tr>\n",
       "      <th>A</th>\n",
       "      <td>-0.245681</td>\n",
       "      <td>-0.149769</td>\n",
       "      <td>0.953707</td>\n",
       "      <td>-0.453921</td>\n",
       "      <td>0.625827</td>\n",
       "      <td>0.380145</td>\n",
       "    </tr>\n",
       "    <tr>\n",
       "      <th>B</th>\n",
       "      <td>-1.361143</td>\n",
       "      <td>-0.142772</td>\n",
       "      <td>-1.577839</td>\n",
       "      <td>-1.248828</td>\n",
       "      <td>1.003281</td>\n",
       "      <td>-0.357862</td>\n",
       "    </tr>\n",
       "    <tr>\n",
       "      <th>C</th>\n",
       "      <td>1.437332</td>\n",
       "      <td>-1.388466</td>\n",
       "      <td>0.385773</td>\n",
       "      <td>-0.704771</td>\n",
       "      <td>-0.522076</td>\n",
       "      <td>0.915256</td>\n",
       "    </tr>\n",
       "    <tr>\n",
       "      <th>D</th>\n",
       "      <td>-0.693832</td>\n",
       "      <td>0.459937</td>\n",
       "      <td>0.374370</td>\n",
       "      <td>0.658910</td>\n",
       "      <td>-0.850656</td>\n",
       "      <td>-1.544488</td>\n",
       "    </tr>\n",
       "    <tr>\n",
       "      <th>E</th>\n",
       "      <td>-1.878883</td>\n",
       "      <td>-1.927642</td>\n",
       "      <td>-0.293436</td>\n",
       "      <td>0.395478</td>\n",
       "      <td>-0.708160</td>\n",
       "      <td>-2.587043</td>\n",
       "    </tr>\n",
       "  </tbody>\n",
       "</table>\n",
       "</div>"
      ],
      "text/plain": [
       "          V         W         X         Y         Z         U\n",
       "A -0.245681 -0.149769  0.953707 -0.453921  0.625827  0.380145\n",
       "B -1.361143 -0.142772 -1.577839 -1.248828  1.003281 -0.357862\n",
       "C  1.437332 -1.388466  0.385773 -0.704771 -0.522076  0.915256\n",
       "D -0.693832  0.459937  0.374370  0.658910 -0.850656 -1.544488\n",
       "E -1.878883 -1.927642 -0.293436  0.395478 -0.708160 -2.587043"
      ]
     },
     "execution_count": 23,
     "metadata": {},
     "output_type": "execute_result"
    }
   ],
   "source": [
    "df.tail() #Last 5"
   ]
  },
  {
   "cell_type": "markdown",
   "id": "115a647d",
   "metadata": {},
   "source": [
    "# Concatinate"
   ]
  },
  {
   "cell_type": "code",
   "execution_count": 24,
   "id": "ebd15568",
   "metadata": {},
   "outputs": [],
   "source": [
    "import pandas as pd"
   ]
  },
  {
   "cell_type": "code",
   "execution_count": 25,
   "id": "2d25db3b",
   "metadata": {},
   "outputs": [],
   "source": [
    "df1 = pd.DataFrame({'A':['A0','A1','A2','A3'],\n",
    "                   'B':['C0','C1','C2','C3'],\n",
    "                   'C':['C0','C1','C2','C3']},index =[0,1,2,3])\n",
    "df2 = pd.DataFrame({'D':['D4','D5','D6','D7']},index = [4,5,6,7])\n"
   ]
  },
  {
   "cell_type": "code",
   "execution_count": 26,
   "id": "016fa10f",
   "metadata": {},
   "outputs": [
    {
     "data": {
      "text/html": [
       "<div>\n",
       "<style scoped>\n",
       "    .dataframe tbody tr th:only-of-type {\n",
       "        vertical-align: middle;\n",
       "    }\n",
       "\n",
       "    .dataframe tbody tr th {\n",
       "        vertical-align: top;\n",
       "    }\n",
       "\n",
       "    .dataframe thead th {\n",
       "        text-align: right;\n",
       "    }\n",
       "</style>\n",
       "<table border=\"1\" class=\"dataframe\">\n",
       "  <thead>\n",
       "    <tr style=\"text-align: right;\">\n",
       "      <th></th>\n",
       "      <th>A</th>\n",
       "      <th>B</th>\n",
       "      <th>C</th>\n",
       "      <th>D</th>\n",
       "    </tr>\n",
       "  </thead>\n",
       "  <tbody>\n",
       "    <tr>\n",
       "      <th>0</th>\n",
       "      <td>A0</td>\n",
       "      <td>C0</td>\n",
       "      <td>C0</td>\n",
       "      <td>NaN</td>\n",
       "    </tr>\n",
       "    <tr>\n",
       "      <th>1</th>\n",
       "      <td>A1</td>\n",
       "      <td>C1</td>\n",
       "      <td>C1</td>\n",
       "      <td>NaN</td>\n",
       "    </tr>\n",
       "    <tr>\n",
       "      <th>2</th>\n",
       "      <td>A2</td>\n",
       "      <td>C2</td>\n",
       "      <td>C2</td>\n",
       "      <td>NaN</td>\n",
       "    </tr>\n",
       "    <tr>\n",
       "      <th>3</th>\n",
       "      <td>A3</td>\n",
       "      <td>C3</td>\n",
       "      <td>C3</td>\n",
       "      <td>NaN</td>\n",
       "    </tr>\n",
       "    <tr>\n",
       "      <th>4</th>\n",
       "      <td>NaN</td>\n",
       "      <td>NaN</td>\n",
       "      <td>NaN</td>\n",
       "      <td>D4</td>\n",
       "    </tr>\n",
       "    <tr>\n",
       "      <th>5</th>\n",
       "      <td>NaN</td>\n",
       "      <td>NaN</td>\n",
       "      <td>NaN</td>\n",
       "      <td>D5</td>\n",
       "    </tr>\n",
       "    <tr>\n",
       "      <th>6</th>\n",
       "      <td>NaN</td>\n",
       "      <td>NaN</td>\n",
       "      <td>NaN</td>\n",
       "      <td>D6</td>\n",
       "    </tr>\n",
       "    <tr>\n",
       "      <th>7</th>\n",
       "      <td>NaN</td>\n",
       "      <td>NaN</td>\n",
       "      <td>NaN</td>\n",
       "      <td>D7</td>\n",
       "    </tr>\n",
       "  </tbody>\n",
       "</table>\n",
       "</div>"
      ],
      "text/plain": [
       "     A    B    C    D\n",
       "0   A0   C0   C0  NaN\n",
       "1   A1   C1   C1  NaN\n",
       "2   A2   C2   C2  NaN\n",
       "3   A3   C3   C3  NaN\n",
       "4  NaN  NaN  NaN   D4\n",
       "5  NaN  NaN  NaN   D5\n",
       "6  NaN  NaN  NaN   D6\n",
       "7  NaN  NaN  NaN   D7"
      ]
     },
     "execution_count": 26,
     "metadata": {},
     "output_type": "execute_result"
    }
   ],
   "source": [
    "pd.concat([df1,df2],axis =1)"
   ]
  },
  {
   "cell_type": "markdown",
   "id": "84b4aa6b",
   "metadata": {},
   "source": [
    "# Merging and joining DataFrame"
   ]
  },
  {
   "cell_type": "code",
   "execution_count": 27,
   "id": "8d9c2e04",
   "metadata": {},
   "outputs": [],
   "source": [
    "left = pd.DataFrame({'key': ['K0','K1','K2','K3'],\n",
    "                    'A': ['A0','A1','A2','A3'],\n",
    "                     'B': ['B0','B1','B2','B3']})\n",
    "right = pd.DataFrame({'key': ['K0','K1','K2','K3'],\n",
    "                      'C': ['C0','C1','C2','C3'],\n",
    "                      'D': ['D0','D1','D2','D3'"
   ]
  },
  {
   "cell_type": "code",
   "execution_count": 28,
   "id": "616df167",
   "metadata": {},
   "outputs": [
    {
     "data": {
      "text/html": [
       "<div>\n",
       "<style scoped>\n",
       "    .dataframe tbody tr th:only-of-type {\n",
       "        vertical-align: middle;\n",
       "    }\n",
       "\n",
       "    .dataframe tbody tr th {\n",
       "        vertical-align: top;\n",
       "    }\n",
       "\n",
       "    .dataframe thead th {\n",
       "        text-align: right;\n",
       "    }\n",
       "</style>\n",
       "<table border=\"1\" class=\"dataframe\">\n",
       "  <thead>\n",
       "    <tr style=\"text-align: right;\">\n",
       "      <th></th>\n",
       "      <th>key</th>\n",
       "      <th>A</th>\n",
       "      <th>B</th>\n",
       "      <th>C</th>\n",
       "      <th>D</th>\n",
       "    </tr>\n",
       "  </thead>\n",
       "  <tbody>\n",
       "    <tr>\n",
       "      <th>0</th>\n",
       "      <td>K0</td>\n",
       "      <td>A0</td>\n",
       "      <td>B0</td>\n",
       "      <td>C0</td>\n",
       "      <td>D0</td>\n",
       "    </tr>\n",
       "    <tr>\n",
       "      <th>1</th>\n",
       "      <td>K1</td>\n",
       "      <td>A1</td>\n",
       "      <td>B1</td>\n",
       "      <td>C1</td>\n",
       "      <td>D1</td>\n",
       "    </tr>\n",
       "    <tr>\n",
       "      <th>2</th>\n",
       "      <td>K2</td>\n",
       "      <td>A2</td>\n",
       "      <td>B2</td>\n",
       "      <td>C2</td>\n",
       "      <td>D2</td>\n",
       "    </tr>\n",
       "    <tr>\n",
       "      <th>3</th>\n",
       "      <td>K3</td>\n",
       "      <td>A3</td>\n",
       "      <td>B3</td>\n",
       "      <td>C3</td>\n",
       "      <td>D3</td>\n",
       "    </tr>\n",
       "  </tbody>\n",
       "</table>\n",
       "</div>"
      ],
      "text/plain": [
       "  key   A   B   C   D\n",
       "0  K0  A0  B0  C0  D0\n",
       "1  K1  A1  B1  C1  D1\n",
       "2  K2  A2  B2  C2  D2\n",
       "3  K3  A3  B3  C3  D3"
      ]
     },
     "execution_count": 28,
     "metadata": {},
     "output_type": "execute_result"
    }
   ],
   "source": [
    "pd.merge(left,right,how='inner' ,on='key')"
   ]
  },
  {
   "cell_type": "code",
   "execution_count": 42,
   "id": "3b3b596d",
   "metadata": {},
   "outputs": [],
   "source": [
    "left = pd.DataFrame({'A': ['A0','A1','A2','A3'],\n",
    "                     'B': ['B0','B1','B2','B3']}, \n",
    "index=['K0','K1','K2','K3'])\n",
    "    \n",
    "right = pd.DataFrame({'C': ['C0','C1','C2','C3'],\n",
    "                      'D': ['D0','D1','D2','D3']}, \n",
    "index=['K0','K1','K2','K3'])"
   ]
  },
  {
   "cell_type": "code",
   "execution_count": 45,
   "id": "ea890472",
   "metadata": {},
   "outputs": [
    {
     "data": {
      "text/html": [
       "<div>\n",
       "<style scoped>\n",
       "    .dataframe tbody tr th:only-of-type {\n",
       "        vertical-align: middle;\n",
       "    }\n",
       "\n",
       "    .dataframe tbody tr th {\n",
       "        vertical-align: top;\n",
       "    }\n",
       "\n",
       "    .dataframe thead th {\n",
       "        text-align: right;\n",
       "    }\n",
       "</style>\n",
       "<table border=\"1\" class=\"dataframe\">\n",
       "  <thead>\n",
       "    <tr style=\"text-align: right;\">\n",
       "      <th></th>\n",
       "      <th>A</th>\n",
       "      <th>B</th>\n",
       "    </tr>\n",
       "  </thead>\n",
       "  <tbody>\n",
       "    <tr>\n",
       "      <th>K0</th>\n",
       "      <td>A0</td>\n",
       "      <td>B0</td>\n",
       "    </tr>\n",
       "    <tr>\n",
       "      <th>K1</th>\n",
       "      <td>A1</td>\n",
       "      <td>B1</td>\n",
       "    </tr>\n",
       "    <tr>\n",
       "      <th>K2</th>\n",
       "      <td>A2</td>\n",
       "      <td>B2</td>\n",
       "    </tr>\n",
       "    <tr>\n",
       "      <th>K3</th>\n",
       "      <td>A3</td>\n",
       "      <td>B3</td>\n",
       "    </tr>\n",
       "  </tbody>\n",
       "</table>\n",
       "</div>"
      ],
      "text/plain": [
       "     A   B\n",
       "K0  A0  B0\n",
       "K1  A1  B1\n",
       "K2  A2  B2\n",
       "K3  A3  B3"
      ]
     },
     "metadata": {},
     "output_type": "display_data"
    },
    {
     "data": {
      "text/html": [
       "<div>\n",
       "<style scoped>\n",
       "    .dataframe tbody tr th:only-of-type {\n",
       "        vertical-align: middle;\n",
       "    }\n",
       "\n",
       "    .dataframe tbody tr th {\n",
       "        vertical-align: top;\n",
       "    }\n",
       "\n",
       "    .dataframe thead th {\n",
       "        text-align: right;\n",
       "    }\n",
       "</style>\n",
       "<table border=\"1\" class=\"dataframe\">\n",
       "  <thead>\n",
       "    <tr style=\"text-align: right;\">\n",
       "      <th></th>\n",
       "      <th>C</th>\n",
       "      <th>D</th>\n",
       "    </tr>\n",
       "  </thead>\n",
       "  <tbody>\n",
       "    <tr>\n",
       "      <th>K0</th>\n",
       "      <td>C0</td>\n",
       "      <td>D0</td>\n",
       "    </tr>\n",
       "    <tr>\n",
       "      <th>K1</th>\n",
       "      <td>C1</td>\n",
       "      <td>D1</td>\n",
       "    </tr>\n",
       "    <tr>\n",
       "      <th>K2</th>\n",
       "      <td>C2</td>\n",
       "      <td>D2</td>\n",
       "    </tr>\n",
       "    <tr>\n",
       "      <th>K3</th>\n",
       "      <td>C3</td>\n",
       "      <td>D3</td>\n",
       "    </tr>\n",
       "  </tbody>\n",
       "</table>\n",
       "</div>"
      ],
      "text/plain": [
       "     C   D\n",
       "K0  C0  D0\n",
       "K1  C1  D1\n",
       "K2  C2  D2\n",
       "K3  C3  D3"
      ]
     },
     "metadata": {},
     "output_type": "display_data"
    }
   ],
   "source": [
    "display(left,right)"
   ]
  },
  {
   "cell_type": "code",
   "execution_count": 43,
   "id": "1ab07dd0",
   "metadata": {
    "scrolled": false
   },
   "outputs": [
    {
     "data": {
      "text/html": [
       "<div>\n",
       "<style scoped>\n",
       "    .dataframe tbody tr th:only-of-type {\n",
       "        vertical-align: middle;\n",
       "    }\n",
       "\n",
       "    .dataframe tbody tr th {\n",
       "        vertical-align: top;\n",
       "    }\n",
       "\n",
       "    .dataframe thead th {\n",
       "        text-align: right;\n",
       "    }\n",
       "</style>\n",
       "<table border=\"1\" class=\"dataframe\">\n",
       "  <thead>\n",
       "    <tr style=\"text-align: right;\">\n",
       "      <th></th>\n",
       "      <th>A</th>\n",
       "      <th>B</th>\n",
       "      <th>C</th>\n",
       "      <th>D</th>\n",
       "    </tr>\n",
       "  </thead>\n",
       "  <tbody>\n",
       "    <tr>\n",
       "      <th>K0</th>\n",
       "      <td>A0</td>\n",
       "      <td>B0</td>\n",
       "      <td>C0</td>\n",
       "      <td>D0</td>\n",
       "    </tr>\n",
       "    <tr>\n",
       "      <th>K1</th>\n",
       "      <td>A1</td>\n",
       "      <td>B1</td>\n",
       "      <td>C1</td>\n",
       "      <td>D1</td>\n",
       "    </tr>\n",
       "    <tr>\n",
       "      <th>K2</th>\n",
       "      <td>A2</td>\n",
       "      <td>B2</td>\n",
       "      <td>C2</td>\n",
       "      <td>D2</td>\n",
       "    </tr>\n",
       "    <tr>\n",
       "      <th>K3</th>\n",
       "      <td>A3</td>\n",
       "      <td>B3</td>\n",
       "      <td>C3</td>\n",
       "      <td>D3</td>\n",
       "    </tr>\n",
       "  </tbody>\n",
       "</table>\n",
       "</div>"
      ],
      "text/plain": [
       "     A   B   C   D\n",
       "K0  A0  B0  C0  D0\n",
       "K1  A1  B1  C1  D1\n",
       "K2  A2  B2  C2  D2\n",
       "K3  A3  B3  C3  D3"
      ]
     },
     "execution_count": 43,
     "metadata": {},
     "output_type": "execute_result"
    }
   ],
   "source": [
    "left.join(right)"
   ]
  },
  {
   "cell_type": "code",
   "execution_count": 47,
   "id": "f0b63dd7",
   "metadata": {},
   "outputs": [],
   "source": [
    "left = pd.DataFrame({'key': ['K0','K1','K2','K3'],\n",
    "                    'A': ['A0','A1','A2','A3'],\n",
    "                     'B': ['B0','B1','B2','B3']})\n",
    "right = pd.DataFrame({'key': ['K0','K1','K2','K3'],\n",
    "                      'C': ['C0','C1','C2','C3'],\n",
    "                      'D': ['D0','D1','D2','D3']})"
   ]
  },
  {
   "cell_type": "code",
   "execution_count": 51,
   "id": "d1c9489d",
   "metadata": {},
   "outputs": [
    {
     "data": {
      "text/html": [
       "<div>\n",
       "<style scoped>\n",
       "    .dataframe tbody tr th:only-of-type {\n",
       "        vertical-align: middle;\n",
       "    }\n",
       "\n",
       "    .dataframe tbody tr th {\n",
       "        vertical-align: top;\n",
       "    }\n",
       "\n",
       "    .dataframe thead th {\n",
       "        text-align: right;\n",
       "    }\n",
       "</style>\n",
       "<table border=\"1\" class=\"dataframe\">\n",
       "  <thead>\n",
       "    <tr style=\"text-align: right;\">\n",
       "      <th></th>\n",
       "      <th>key</th>\n",
       "      <th>A</th>\n",
       "      <th>B</th>\n",
       "      <th>C</th>\n",
       "      <th>D</th>\n",
       "    </tr>\n",
       "  </thead>\n",
       "  <tbody>\n",
       "    <tr>\n",
       "      <th>0</th>\n",
       "      <td>K0</td>\n",
       "      <td>A0</td>\n",
       "      <td>B0</td>\n",
       "      <td>C0</td>\n",
       "      <td>D0</td>\n",
       "    </tr>\n",
       "    <tr>\n",
       "      <th>1</th>\n",
       "      <td>K1</td>\n",
       "      <td>A1</td>\n",
       "      <td>B1</td>\n",
       "      <td>C1</td>\n",
       "      <td>D1</td>\n",
       "    </tr>\n",
       "    <tr>\n",
       "      <th>2</th>\n",
       "      <td>K2</td>\n",
       "      <td>A2</td>\n",
       "      <td>B2</td>\n",
       "      <td>C2</td>\n",
       "      <td>D2</td>\n",
       "    </tr>\n",
       "    <tr>\n",
       "      <th>3</th>\n",
       "      <td>K3</td>\n",
       "      <td>A3</td>\n",
       "      <td>B3</td>\n",
       "      <td>C3</td>\n",
       "      <td>D3</td>\n",
       "    </tr>\n",
       "  </tbody>\n",
       "</table>\n",
       "</div>"
      ],
      "text/plain": [
       "  key   A   B   C   D\n",
       "0  K0  A0  B0  C0  D0\n",
       "1  K1  A1  B1  C1  D1\n",
       "2  K2  A2  B2  C2  D2\n",
       "3  K3  A3  B3  C3  D3"
      ]
     },
     "execution_count": 51,
     "metadata": {},
     "output_type": "execute_result"
    }
   ],
   "source": [
    "pd.merge(left,right,how='inner',on ='key')"
   ]
  },
  {
   "cell_type": "code",
   "execution_count": 53,
   "id": "9abfb97b",
   "metadata": {},
   "outputs": [
    {
     "ename": "NameError",
     "evalue": "name 'on' is not defined",
     "output_type": "error",
     "traceback": [
      "\u001b[1;31m---------------------------------------------------------------------------\u001b[0m",
      "\u001b[1;31mNameError\u001b[0m                                 Traceback (most recent call last)",
      "Input \u001b[1;32mIn [53]\u001b[0m, in \u001b[0;36m<cell line: 1>\u001b[1;34m()\u001b[0m\n\u001b[1;32m----> 1\u001b[0m df_out \u001b[38;5;241m=\u001b[39m pd\u001b[38;5;241m.\u001b[39mmerge(left,right, \u001b[43mon\u001b[49m)\n",
      "\u001b[1;31mNameError\u001b[0m: name 'on' is not defined"
     ]
    }
   ],
   "source": [
    "df_out = pd.merge(left,right, on)"
   ]
  },
  {
   "cell_type": "code",
   "execution_count": 58,
   "id": "ea278083",
   "metadata": {},
   "outputs": [],
   "source": [
    "left = pd.DataFrame({'key1': ['K0','K0','K1','K2'],\n",
    "                    'key2': ['K0','K1','K0','K1'],\n",
    "                     'A': ['A0','A1','A2','A3'],\n",
    "                     'B': ['B0','B1','B2','B3']})\n",
    "right = pd.DataFrame({'key1': ['K0','K1','K1','K2'],\n",
    "                      'key2' : ['K0','K0','K0','K0'],\n",
    "                      'C': ['C0','C1','C2','C3'],\n",
    "                      'D': ['D0','D1','D2','D3']})"
   ]
  },
  {
   "cell_type": "code",
   "execution_count": 59,
   "id": "d6c99d78",
   "metadata": {},
   "outputs": [
    {
     "data": {
      "text/html": [
       "<div>\n",
       "<style scoped>\n",
       "    .dataframe tbody tr th:only-of-type {\n",
       "        vertical-align: middle;\n",
       "    }\n",
       "\n",
       "    .dataframe tbody tr th {\n",
       "        vertical-align: top;\n",
       "    }\n",
       "\n",
       "    .dataframe thead th {\n",
       "        text-align: right;\n",
       "    }\n",
       "</style>\n",
       "<table border=\"1\" class=\"dataframe\">\n",
       "  <thead>\n",
       "    <tr style=\"text-align: right;\">\n",
       "      <th></th>\n",
       "      <th>key1</th>\n",
       "      <th>key2</th>\n",
       "      <th>A</th>\n",
       "      <th>B</th>\n",
       "      <th>C</th>\n",
       "      <th>D</th>\n",
       "    </tr>\n",
       "  </thead>\n",
       "  <tbody>\n",
       "    <tr>\n",
       "      <th>0</th>\n",
       "      <td>K0</td>\n",
       "      <td>K0</td>\n",
       "      <td>A0</td>\n",
       "      <td>B0</td>\n",
       "      <td>C0</td>\n",
       "      <td>D0</td>\n",
       "    </tr>\n",
       "    <tr>\n",
       "      <th>1</th>\n",
       "      <td>K1</td>\n",
       "      <td>K0</td>\n",
       "      <td>A2</td>\n",
       "      <td>B2</td>\n",
       "      <td>C1</td>\n",
       "      <td>D1</td>\n",
       "    </tr>\n",
       "    <tr>\n",
       "      <th>2</th>\n",
       "      <td>K1</td>\n",
       "      <td>K0</td>\n",
       "      <td>A2</td>\n",
       "      <td>B2</td>\n",
       "      <td>C2</td>\n",
       "      <td>D2</td>\n",
       "    </tr>\n",
       "  </tbody>\n",
       "</table>\n",
       "</div>"
      ],
      "text/plain": [
       "  key1 key2   A   B   C   D\n",
       "0   K0   K0  A0  B0  C0  D0\n",
       "1   K1   K0  A2  B2  C1  D1\n",
       "2   K1   K0  A2  B2  C2  D2"
      ]
     },
     "execution_count": 59,
     "metadata": {},
     "output_type": "execute_result"
    }
   ],
   "source": [
    "pd.merge(left,right)"
   ]
  },
  {
   "cell_type": "code",
   "execution_count": null,
   "id": "ae238e7f",
   "metadata": {},
   "outputs": [],
   "source": []
  }
 ],
 "metadata": {
  "kernelspec": {
   "display_name": "Python 3 (ipykernel)",
   "language": "python",
   "name": "python3"
  },
  "language_info": {
   "codemirror_mode": {
    "name": "ipython",
    "version": 3
   },
   "file_extension": ".py",
   "mimetype": "text/x-python",
   "name": "python",
   "nbconvert_exporter": "python",
   "pygments_lexer": "ipython3",
   "version": "3.9.12"
  }
 },
 "nbformat": 4,
 "nbformat_minor": 5
}
